{
  "nbformat": 4,
  "nbformat_minor": 0,
  "metadata": {
    "accelerator": "GPU",
    "colab": {
      "name": "RPQ_Experiments.ipynb",
      "provenance": []
    },
    "kernelspec": {
      "display_name": "Python 3",
      "name": "python3"
    },
    "language_info": {
      "name": "python"
    }
  },
  "cells": [
    {
      "cell_type": "markdown",
      "metadata": {
        "id": "dEzkiVfqx46c"
      },
      "source": [
        "# Задача 5. Экспериментальное исследование алгоритмов для регулярных запросов\n",
        "# Автор: [Miroshnikov Vladislav](https://github.com/vladislav-miroshnikov)\n",
        "## Введение\n",
        "\n",
        "Задача посвящена анализу производительности различных реализаций алгоритма решения задачи достижимости между всеми парами вершин с регулярными ограничениями через тензорное произведение.\n",
        "\n",
        "Перейдем к постановке задачи:\n",
        "\n",
        "В задаче имеется размеченный граф $G$, допускающий регулярный язык $L_G$, то есть конечный автомат, эквивалентный данному графу, допускает этот же язык $L_G$.\n",
        "\n",
        "Также имеется регулярное выражение $R$, которое задает регулярный язык $L_R$, который мы считаем нашим языком ограничений.\n",
        "\n",
        "Рассмотрим задачу $RPQ = \\{(v_i, v_j)|\\exists\\pi:w(v_i\\pi v_j)\\in L, v_i\\in V_S, v_j\\in V_F\\}$, где $L = L_G\\cap L_R$\n",
        "\n",
        "Чтобы построить язык пересечения, нужно построить пересечение конечных автоматов $КА_{G}$ и $КА_{R}$.\n",
        "\n",
        "Введем определение пересечения конечных автоматов:\n",
        "\n",
        "$КА_3 = КА_1\\cap КА_2 = (S^{1}\\times S^{2}, \\Delta^{3}, S^{1}_S\\times S^{2}_S, S^{1}_F\\times S^{2}_F)$, где функция переходов задаётся как\n",
        "$\\Delta^{3}: (v_i, v_j)\\times l\\rightarrow (u_i, u_j)$\n",
        "\n",
        "$\n",
        "\\begin{cases}\n",
        "v_i\\in S^{1}\\times l\\rightarrow u_i\\in S^{1}\\quad\\in\\Delta^{1} \\\\\n",
        "v_j\\in S^{2}\\times l\\rightarrow u_j\\in S^{2}\\quad\\in\\Delta^{2}\n",
        "\\end{cases}$\n",
        "\n",
        "Построение функции переходов осуществляется через тензорное произведении матриц смежностей конечных автоматов. \n",
        "\n",
        "## Постановка задачи\n",
        "### Цели и задачи\n",
        "Целью данного исследования является проведение эксперимента, основанного на осуществлении регулярных запросов к набору графов в двух вариантах реализации алгоритма пересечения конечных автоматов с дальнейшим анализом полученных результатов.\n",
        "\n",
        "Для достижения цели необходимо:\n",
        "- Используя библиотеку pyCuBool, основанную на технологии NVIDIA CUDA,  реализовать алгоритм пересечения двух конечных автоматов через тензорное произведение\n",
        "- Взять ранее реализованный алгоритм для пересечения двух конечных автоматов через тензорное произведение\n",
        "- Сформировать и описать набор данных для экспериментов\n",
        "- Сформулировать методологию проведения эксперимента\n",
        "- Произвести сравнительный анализ производительности реализаций алгоритмов\n"
      ]
    },
    {
      "cell_type": "markdown",
      "metadata": {
        "id": "Nrke-cLT3EoA"
      },
      "source": [
        "## Исследуемые решения\n",
        "Элементами матрицы смежности конечного автомата являются подмножества его меток. Чтобы не вводить операцию пересечения множеств в тензорном произведении, мы будем приводить матрицы смежности двух конечных автоматов к виду булевых матриц.\n",
        "\n",
        "Булевы матрицы на практике являются сильно разреженными. Для работы с подобными разреженными матрицами мы будем использовать алгоритм в двух вариантах реализации, основанный на следующих библиотеках: \n",
        "- [pyCuBool](https://pypi.org/project/pycubool/)\n",
        "- [scipy.sparse](https://docs.scipy.org/doc/scipy/reference/sparse.html)\n",
        "\n",
        "\n",
        "**Ограничения**: В scipy.sparce используются матрицы типа `dok`, в pyCuBool – матрицы для вычислений на GPU.\n",
        "\n"
      ]
    },
    {
      "cell_type": "markdown",
      "metadata": {
        "id": "HO_Rn7Mx6eQq"
      },
      "source": [
        "## Настройка и инициализация рабочего окружения"
      ]
    },
    {
      "cell_type": "markdown",
      "metadata": {
        "id": "Zy6Ml2vY6uZQ"
      },
      "source": [
        "Установка библиотеки pycubool"
      ]
    },
    {
      "cell_type": "code",
      "metadata": {
        "colab": {
          "base_uri": "https://localhost:8080/"
        },
        "id": "fjTpiiW7dFlI",
        "outputId": "941d9e8c-24b3-491b-88c4-3044ccb2d6d9"
      },
      "source": [
        "!pip install pycubool"
      ],
      "execution_count": 2,
      "outputs": [
        {
          "output_type": "stream",
          "name": "stdout",
          "text": [
            "Collecting pycubool\n",
            "  Downloading pycubool-1.2.0-py3-none-any.whl (1.5 MB)\n",
            "\u001b[K     |████████████████████████████████| 1.5 MB 5.2 MB/s \n",
            "\u001b[?25hInstalling collected packages: pycubool\n",
            "Successfully installed pycubool-1.2.0\n"
          ]
        }
      ]
    },
    {
      "cell_type": "markdown",
      "metadata": {
        "id": "fhfEPD0EYznX"
      },
      "source": [
        "### Для работы с алгоритмом, основанным на scipy.sparce, подключим соответствующее решение"
      ]
    },
    {
      "cell_type": "markdown",
      "metadata": {
        "id": "Duswq7pG6-zZ"
      },
      "source": [
        "Скачивание и установка проекта https://github.com/vladislav-miroshnikov/formal-lang-course"
      ]
    },
    {
      "cell_type": "code",
      "metadata": {
        "colab": {
          "base_uri": "https://localhost:8080/"
        },
        "id": "taOzJjCgdnbu",
        "outputId": "9efbc040-2e26-4db8-b0ce-2a4718fd07cd"
      },
      "source": [
        "!git clone https://github.com/vladislav-miroshnikov/formal-lang-course"
      ],
      "execution_count": 3,
      "outputs": [
        {
          "output_type": "stream",
          "name": "stdout",
          "text": [
            "Cloning into 'formal-lang-course'...\n",
            "remote: Enumerating objects: 377, done.\u001b[K\n",
            "remote: Counting objects: 100% (107/107), done.\u001b[K\n",
            "remote: Compressing objects: 100% (52/52), done.\u001b[K\n",
            "remote: Total 377 (delta 73), reused 62 (delta 53), pack-reused 270\u001b[K\n",
            "Receiving objects: 100% (377/377), 832.35 KiB | 7.24 MiB/s, done.\n",
            "Resolving deltas: 100% (163/163), done.\n"
          ]
        }
      ]
    },
    {
      "cell_type": "markdown",
      "metadata": {
        "id": "bzLZ1ZSr7UJa"
      },
      "source": [
        "Установка зависимостей проекта"
      ]
    },
    {
      "cell_type": "code",
      "metadata": {
        "colab": {
          "base_uri": "https://localhost:8080/"
        },
        "id": "VgSccf3Dd1pW",
        "outputId": "ae243ae7-477e-4624-9610-57c71772604b"
      },
      "source": [
        "!pip install --upgrade pip\n",
        "!pip install -r formal-lang-course/requirements.txt"
      ],
      "execution_count": 5,
      "outputs": [
        {
          "output_type": "stream",
          "name": "stdout",
          "text": [
            "Requirement already satisfied: pip in /usr/local/lib/python3.7/dist-packages (21.3)\n",
            "\u001b[33mWARNING: Running pip as the 'root' user can result in broken permissions and conflicting behaviour with the system package manager. It is recommended to use a virtual environment instead: https://pip.pypa.io/warnings/venv\u001b[0m\n",
            "Requirement already satisfied: antlr4-python3-runtime in /usr/local/lib/python3.7/dist-packages (from -r formal-lang-course/requirements.txt (line 1)) (4.9.2)\n",
            "Requirement already satisfied: black in /usr/local/lib/python3.7/dist-packages (from -r formal-lang-course/requirements.txt (line 2)) (21.9b0)\n",
            "Requirement already satisfied: cfpq-data in /usr/local/lib/python3.7/dist-packages (from -r formal-lang-course/requirements.txt (line 3)) (1.0.2)\n",
            "Requirement already satisfied: pre-commit in /usr/local/lib/python3.7/dist-packages (from -r formal-lang-course/requirements.txt (line 4)) (2.15.0)\n",
            "Requirement already satisfied: pydot in /usr/local/lib/python3.7/dist-packages (from -r formal-lang-course/requirements.txt (line 5)) (1.3.0)\n",
            "Requirement already satisfied: pyformlang in /usr/local/lib/python3.7/dist-packages (from -r formal-lang-course/requirements.txt (line 6)) (0.1.26)\n",
            "Requirement already satisfied: pytest in /usr/local/lib/python3.7/dist-packages (from -r formal-lang-course/requirements.txt (line 7)) (3.6.4)\n",
            "Requirement already satisfied: scipy in /usr/local/lib/python3.7/dist-packages (from -r formal-lang-course/requirements.txt (line 8)) (1.4.1)\n",
            "Requirement already satisfied: typed-ast>=1.4.2 in /usr/local/lib/python3.7/dist-packages (from black->-r formal-lang-course/requirements.txt (line 2)) (1.4.3)\n",
            "Requirement already satisfied: mypy-extensions>=0.4.3 in /usr/local/lib/python3.7/dist-packages (from black->-r formal-lang-course/requirements.txt (line 2)) (0.4.3)\n",
            "Requirement already satisfied: typing-extensions>=3.10.0.0 in /usr/local/lib/python3.7/dist-packages (from black->-r formal-lang-course/requirements.txt (line 2)) (3.10.0.2)\n",
            "Requirement already satisfied: pathspec<1,>=0.9.0 in /usr/local/lib/python3.7/dist-packages (from black->-r formal-lang-course/requirements.txt (line 2)) (0.9.0)\n",
            "Requirement already satisfied: platformdirs>=2 in /usr/local/lib/python3.7/dist-packages (from black->-r formal-lang-course/requirements.txt (line 2)) (2.4.0)\n",
            "Requirement already satisfied: click>=7.1.2 in /usr/local/lib/python3.7/dist-packages (from black->-r formal-lang-course/requirements.txt (line 2)) (7.1.2)\n",
            "Requirement already satisfied: tomli<2.0.0,>=0.2.6 in /usr/local/lib/python3.7/dist-packages (from black->-r formal-lang-course/requirements.txt (line 2)) (1.2.1)\n",
            "Requirement already satisfied: regex>=2020.1.8 in /usr/local/lib/python3.7/dist-packages (from black->-r formal-lang-course/requirements.txt (line 2)) (2021.10.8)\n",
            "Requirement already satisfied: tqdm==4.62.2 in /usr/local/lib/python3.7/dist-packages (from cfpq-data->-r formal-lang-course/requirements.txt (line 3)) (4.62.2)\n",
            "Requirement already satisfied: networkx==2.6.2 in /usr/local/lib/python3.7/dist-packages (from cfpq-data->-r formal-lang-course/requirements.txt (line 3)) (2.6.2)\n",
            "Requirement already satisfied: rdflib==6.0.0 in /usr/local/lib/python3.7/dist-packages (from cfpq-data->-r formal-lang-course/requirements.txt (line 3)) (6.0.0)\n",
            "Requirement already satisfied: boto3==1.18.31 in /usr/local/lib/python3.7/dist-packages (from cfpq-data->-r formal-lang-course/requirements.txt (line 3)) (1.18.31)\n",
            "Requirement already satisfied: numpy in /usr/local/lib/python3.7/dist-packages (from pyformlang->-r formal-lang-course/requirements.txt (line 6)) (1.19.5)\n",
            "Requirement already satisfied: s3transfer<0.6.0,>=0.5.0 in /usr/local/lib/python3.7/dist-packages (from boto3==1.18.31->cfpq-data->-r formal-lang-course/requirements.txt (line 3)) (0.5.0)\n",
            "Requirement already satisfied: jmespath<1.0.0,>=0.7.1 in /usr/local/lib/python3.7/dist-packages (from boto3==1.18.31->cfpq-data->-r formal-lang-course/requirements.txt (line 3)) (0.10.0)\n",
            "Requirement already satisfied: botocore<1.22.0,>=1.21.31 in /usr/local/lib/python3.7/dist-packages (from boto3==1.18.31->cfpq-data->-r formal-lang-course/requirements.txt (line 3)) (1.21.60)\n",
            "Requirement already satisfied: setuptools in /usr/local/lib/python3.7/dist-packages (from rdflib==6.0.0->cfpq-data->-r formal-lang-course/requirements.txt (line 3)) (57.4.0)\n",
            "Requirement already satisfied: isodate in /usr/local/lib/python3.7/dist-packages (from rdflib==6.0.0->cfpq-data->-r formal-lang-course/requirements.txt (line 3)) (0.6.0)\n",
            "Requirement already satisfied: pyparsing in /usr/local/lib/python3.7/dist-packages (from rdflib==6.0.0->cfpq-data->-r formal-lang-course/requirements.txt (line 3)) (2.4.7)\n",
            "Requirement already satisfied: cfgv>=2.0.0 in /usr/local/lib/python3.7/dist-packages (from pre-commit->-r formal-lang-course/requirements.txt (line 4)) (3.3.1)\n",
            "Requirement already satisfied: importlib-metadata in /usr/local/lib/python3.7/dist-packages (from pre-commit->-r formal-lang-course/requirements.txt (line 4)) (4.8.1)\n",
            "Requirement already satisfied: toml in /usr/local/lib/python3.7/dist-packages (from pre-commit->-r formal-lang-course/requirements.txt (line 4)) (0.10.2)\n",
            "Requirement already satisfied: identify>=1.0.0 in /usr/local/lib/python3.7/dist-packages (from pre-commit->-r formal-lang-course/requirements.txt (line 4)) (2.3.0)\n",
            "Requirement already satisfied: virtualenv>=20.0.8 in /usr/local/lib/python3.7/dist-packages (from pre-commit->-r formal-lang-course/requirements.txt (line 4)) (20.8.1)\n",
            "Requirement already satisfied: pyyaml>=5.1 in /usr/local/lib/python3.7/dist-packages (from pre-commit->-r formal-lang-course/requirements.txt (line 4)) (5.4.1)\n",
            "Requirement already satisfied: nodeenv>=0.11.1 in /usr/local/lib/python3.7/dist-packages (from pre-commit->-r formal-lang-course/requirements.txt (line 4)) (1.6.0)\n",
            "Requirement already satisfied: more-itertools>=4.0.0 in /usr/local/lib/python3.7/dist-packages (from pytest->-r formal-lang-course/requirements.txt (line 7)) (8.10.0)\n",
            "Requirement already satisfied: six>=1.10.0 in /usr/local/lib/python3.7/dist-packages (from pytest->-r formal-lang-course/requirements.txt (line 7)) (1.15.0)\n",
            "Requirement already satisfied: attrs>=17.4.0 in /usr/local/lib/python3.7/dist-packages (from pytest->-r formal-lang-course/requirements.txt (line 7)) (21.2.0)\n",
            "Requirement already satisfied: pluggy<0.8,>=0.5 in /usr/local/lib/python3.7/dist-packages (from pytest->-r formal-lang-course/requirements.txt (line 7)) (0.7.1)\n",
            "Requirement already satisfied: py>=1.5.0 in /usr/local/lib/python3.7/dist-packages (from pytest->-r formal-lang-course/requirements.txt (line 7)) (1.10.0)\n",
            "Requirement already satisfied: atomicwrites>=1.0 in /usr/local/lib/python3.7/dist-packages (from pytest->-r formal-lang-course/requirements.txt (line 7)) (1.4.0)\n",
            "Requirement already satisfied: backports.entry-points-selectable>=1.0.4 in /usr/local/lib/python3.7/dist-packages (from virtualenv>=20.0.8->pre-commit->-r formal-lang-course/requirements.txt (line 4)) (1.1.0)\n",
            "Requirement already satisfied: distlib<1,>=0.3.1 in /usr/local/lib/python3.7/dist-packages (from virtualenv>=20.0.8->pre-commit->-r formal-lang-course/requirements.txt (line 4)) (0.3.3)\n",
            "Requirement already satisfied: filelock<4,>=3.0.0 in /usr/local/lib/python3.7/dist-packages (from virtualenv>=20.0.8->pre-commit->-r formal-lang-course/requirements.txt (line 4)) (3.3.0)\n",
            "Requirement already satisfied: zipp>=0.5 in /usr/local/lib/python3.7/dist-packages (from importlib-metadata->pre-commit->-r formal-lang-course/requirements.txt (line 4)) (3.6.0)\n",
            "Requirement already satisfied: urllib3<1.27,>=1.25.4 in /usr/local/lib/python3.7/dist-packages (from botocore<1.22.0,>=1.21.31->boto3==1.18.31->cfpq-data->-r formal-lang-course/requirements.txt (line 3)) (1.26.7)\n",
            "Requirement already satisfied: python-dateutil<3.0.0,>=2.1 in /usr/local/lib/python3.7/dist-packages (from botocore<1.22.0,>=1.21.31->boto3==1.18.31->cfpq-data->-r formal-lang-course/requirements.txt (line 3)) (2.8.2)\n",
            "\u001b[33mWARNING: Running pip as the 'root' user can result in broken permissions and conflicting behaviour with the system package manager. It is recommended to use a virtual environment instead: https://pip.pypa.io/warnings/venv\u001b[0m\n"
          ]
        }
      ]
    },
    {
      "cell_type": "markdown",
      "metadata": {
        "id": "xDxdfYB67dB1"
      },
      "source": [
        "Подключение директории проекта"
      ]
    },
    {
      "cell_type": "code",
      "metadata": {
        "id": "H3M7lbJTeG5O"
      },
      "source": [
        "import sys\n",
        "sys.path.insert(1, 'formal-lang-course')"
      ],
      "execution_count": 6,
      "outputs": []
    },
    {
      "cell_type": "markdown",
      "metadata": {
        "id": "kuge4Bysx06-"
      },
      "source": [
        "### Библиотеки для анализа данных\n",
        "\n",
        "Для работы с таблицами и графиками подключим библиотеки **pandas** и **seaborn**. \n",
        "В ячейке ниже проводится их установка."
      ]
    },
    {
      "cell_type": "code",
      "metadata": {
        "colab": {
          "base_uri": "https://localhost:8080/"
        },
        "id": "EaUKYnBdyh9n",
        "outputId": "c9014f82-a8be-4b0a-d9a6-dee88c11923a"
      },
      "source": [
        "!pip install pandas\n",
        "!pip install seaborn"
      ],
      "execution_count": 7,
      "outputs": [
        {
          "output_type": "stream",
          "name": "stdout",
          "text": [
            "Requirement already satisfied: pandas in /usr/local/lib/python3.7/dist-packages (1.1.5)\n",
            "Requirement already satisfied: pytz>=2017.2 in /usr/local/lib/python3.7/dist-packages (from pandas) (2018.9)\n",
            "Requirement already satisfied: python-dateutil>=2.7.3 in /usr/local/lib/python3.7/dist-packages (from pandas) (2.8.2)\n",
            "Requirement already satisfied: numpy>=1.15.4 in /usr/local/lib/python3.7/dist-packages (from pandas) (1.19.5)\n",
            "Requirement already satisfied: six>=1.5 in /usr/local/lib/python3.7/dist-packages (from python-dateutil>=2.7.3->pandas) (1.15.0)\n",
            "\u001b[33mWARNING: Running pip as the 'root' user can result in broken permissions and conflicting behaviour with the system package manager. It is recommended to use a virtual environment instead: https://pip.pypa.io/warnings/venv\u001b[0m\n",
            "Requirement already satisfied: seaborn in /usr/local/lib/python3.7/dist-packages (0.11.2)\n",
            "Requirement already satisfied: pandas>=0.23 in /usr/local/lib/python3.7/dist-packages (from seaborn) (1.1.5)\n",
            "Requirement already satisfied: scipy>=1.0 in /usr/local/lib/python3.7/dist-packages (from seaborn) (1.4.1)\n",
            "Requirement already satisfied: numpy>=1.15 in /usr/local/lib/python3.7/dist-packages (from seaborn) (1.19.5)\n",
            "Requirement already satisfied: matplotlib>=2.2 in /usr/local/lib/python3.7/dist-packages (from seaborn) (3.2.2)\n",
            "Requirement already satisfied: cycler>=0.10 in /usr/local/lib/python3.7/dist-packages (from matplotlib>=2.2->seaborn) (0.10.0)\n",
            "Requirement already satisfied: python-dateutil>=2.1 in /usr/local/lib/python3.7/dist-packages (from matplotlib>=2.2->seaborn) (2.8.2)\n",
            "Requirement already satisfied: pyparsing!=2.0.4,!=2.1.2,!=2.1.6,>=2.0.1 in /usr/local/lib/python3.7/dist-packages (from matplotlib>=2.2->seaborn) (2.4.7)\n",
            "Requirement already satisfied: kiwisolver>=1.0.1 in /usr/local/lib/python3.7/dist-packages (from matplotlib>=2.2->seaborn) (1.3.2)\n",
            "Requirement already satisfied: pytz>=2017.2 in /usr/local/lib/python3.7/dist-packages (from pandas>=0.23->seaborn) (2018.9)\n",
            "Requirement already satisfied: six in /usr/local/lib/python3.7/dist-packages (from cycler>=0.10->matplotlib>=2.2->seaborn) (1.15.0)\n",
            "\u001b[33mWARNING: Running pip as the 'root' user can result in broken permissions and conflicting behaviour with the system package manager. It is recommended to use a virtual environment instead: https://pip.pypa.io/warnings/venv\u001b[0m\n"
          ]
        }
      ]
    },
    {
      "cell_type": "markdown",
      "metadata": {
        "id": "wfbUg7q23xsi"
      },
      "source": [
        "## Описание данных для экспериментов\n"
      ]
    },
    {
      "cell_type": "markdown",
      "metadata": {
        "id": "YnCWTFEyZxng"
      },
      "source": [
        "### Графы\n",
        "\n",
        "В качестве $L_G$ будем использовать графы из [RDF](https://jetbrains-research.github.io/CFPQ_Data/dataset/RDF.html) датасета.\n",
        "\n",
        "Приведем информаци о графах, которые будут использоваться в задаче:"
      ]
    },
    {
      "cell_type": "code",
      "metadata": {
        "id": "Z_Lfma464yo7"
      },
      "source": [
        "GRAPHS = (\n",
        "    \"skos\",\n",
        "    \"generations\",\n",
        "    \"travel\",\n",
        "    \"univ_bench\",\n",
        "    \"atom_primitive\",\n",
        "    \"biomedical_mesure_primitive\",\n",
        "    \"foaf\",\n",
        "    \"people_pets\",\n",
        "    \"funding\",\n",
        "    \"wine\",\n",
        "    \"pizza\",\n",
        "    \"core\",\n",
        "    \"pathways\",\n",
        "    \"enzyme\",\n",
        "    \"eclass_514en\",\n",
        "    \"go_hierarchy\",\n",
        "    \"go\",\n",
        "    \"geospecies\",\n",
        ")"
      ],
      "execution_count": 8,
      "outputs": []
    },
    {
      "cell_type": "markdown",
      "metadata": {
        "id": "G7ZD0lduQUGX"
      },
      "source": [
        "**Пределы возможностей**: \n",
        "\n",
        "Стоит отметить, что в данный список не вошли графы taxonomy, taxonomy_hierarchy, поскольку вычислительных возможностей Google Colab - среды выполнения, недостаточно для обработки этих графов."
      ]
    },
    {
      "cell_type": "code",
      "metadata": {
        "colab": {
          "base_uri": "https://localhost:8080/",
          "height": 666
        },
        "id": "xYbJJJDF5ww1",
        "outputId": "ac9baa77-bd05-4e2e-fe45-a437716556f6"
      },
      "source": [
        "from project import get_graph_info_util\n",
        "\n",
        "import pandas as pd\n",
        "\n",
        "e_counts = []\n",
        "n_counts = []\n",
        "for graph_name in GRAPHS:\n",
        "  graph_info = get_graph_info_util(graph_name)\n",
        "  nodes, edges = graph_info.nodes, graph_info.edges\n",
        "  e_counts.append(edges)\n",
        "  n_counts.append(nodes)\n",
        "  \n",
        "df = pd.DataFrame(\n",
        "    {\n",
        "      \"Edges count\": e_counts,\n",
        "      \"Nodes count\": nodes\n",
        "    },\n",
        "    index=GRAPHS\n",
        ")\n",
        "df"
      ],
      "execution_count": 9,
      "outputs": [
        {
          "output_type": "stream",
          "name": "stderr",
          "text": [
            "file:///usr/local/lib/python3.7/dist-packages/cfpq_data/data/RDF/Graphs/<http:/sw.opencyc.org/concept/Mx4rvVi495wpEbGdrcN5Y29ycA> does not look like a valid URI, trying to serialize this will break.\n",
            "file:///usr/local/lib/python3.7/dist-packages/cfpq_data/data/RDF/Graphs/<http:/sw.opencyc.org/concept/Mx4rvVi495wpEbGdrcN5Y29ycA> does not look like a valid URI, trying to serialize this will break.\n"
          ]
        },
        {
          "output_type": "execute_result",
          "data": {
            "text/html": [
              "<div>\n",
              "<style scoped>\n",
              "    .dataframe tbody tr th:only-of-type {\n",
              "        vertical-align: middle;\n",
              "    }\n",
              "\n",
              "    .dataframe tbody tr th {\n",
              "        vertical-align: top;\n",
              "    }\n",
              "\n",
              "    .dataframe thead th {\n",
              "        text-align: right;\n",
              "    }\n",
              "</style>\n",
              "<table border=\"1\" class=\"dataframe\">\n",
              "  <thead>\n",
              "    <tr style=\"text-align: right;\">\n",
              "      <th></th>\n",
              "      <th>Edges count</th>\n",
              "      <th>Nodes count</th>\n",
              "    </tr>\n",
              "  </thead>\n",
              "  <tbody>\n",
              "    <tr>\n",
              "      <th>skos</th>\n",
              "      <td>252</td>\n",
              "      <td>450609</td>\n",
              "    </tr>\n",
              "    <tr>\n",
              "      <th>generations</th>\n",
              "      <td>273</td>\n",
              "      <td>450609</td>\n",
              "    </tr>\n",
              "    <tr>\n",
              "      <th>travel</th>\n",
              "      <td>277</td>\n",
              "      <td>450609</td>\n",
              "    </tr>\n",
              "    <tr>\n",
              "      <th>univ_bench</th>\n",
              "      <td>293</td>\n",
              "      <td>450609</td>\n",
              "    </tr>\n",
              "    <tr>\n",
              "      <th>atom_primitive</th>\n",
              "      <td>425</td>\n",
              "      <td>450609</td>\n",
              "    </tr>\n",
              "    <tr>\n",
              "      <th>biomedical_mesure_primitive</th>\n",
              "      <td>459</td>\n",
              "      <td>450609</td>\n",
              "    </tr>\n",
              "    <tr>\n",
              "      <th>foaf</th>\n",
              "      <td>631</td>\n",
              "      <td>450609</td>\n",
              "    </tr>\n",
              "    <tr>\n",
              "      <th>people_pets</th>\n",
              "      <td>640</td>\n",
              "      <td>450609</td>\n",
              "    </tr>\n",
              "    <tr>\n",
              "      <th>funding</th>\n",
              "      <td>1086</td>\n",
              "      <td>450609</td>\n",
              "    </tr>\n",
              "    <tr>\n",
              "      <th>wine</th>\n",
              "      <td>1839</td>\n",
              "      <td>450609</td>\n",
              "    </tr>\n",
              "    <tr>\n",
              "      <th>pizza</th>\n",
              "      <td>1980</td>\n",
              "      <td>450609</td>\n",
              "    </tr>\n",
              "    <tr>\n",
              "      <th>core</th>\n",
              "      <td>2752</td>\n",
              "      <td>450609</td>\n",
              "    </tr>\n",
              "    <tr>\n",
              "      <th>pathways</th>\n",
              "      <td>12363</td>\n",
              "      <td>450609</td>\n",
              "    </tr>\n",
              "    <tr>\n",
              "      <th>enzyme</th>\n",
              "      <td>86543</td>\n",
              "      <td>450609</td>\n",
              "    </tr>\n",
              "    <tr>\n",
              "      <th>eclass_514en</th>\n",
              "      <td>360248</td>\n",
              "      <td>450609</td>\n",
              "    </tr>\n",
              "    <tr>\n",
              "      <th>go_hierarchy</th>\n",
              "      <td>490109</td>\n",
              "      <td>450609</td>\n",
              "    </tr>\n",
              "    <tr>\n",
              "      <th>go</th>\n",
              "      <td>1437437</td>\n",
              "      <td>450609</td>\n",
              "    </tr>\n",
              "    <tr>\n",
              "      <th>geospecies</th>\n",
              "      <td>2201532</td>\n",
              "      <td>450609</td>\n",
              "    </tr>\n",
              "  </tbody>\n",
              "</table>\n",
              "</div>"
            ],
            "text/plain": [
              "                             Edges count  Nodes count\n",
              "skos                                 252       450609\n",
              "generations                          273       450609\n",
              "travel                               277       450609\n",
              "univ_bench                           293       450609\n",
              "atom_primitive                       425       450609\n",
              "biomedical_mesure_primitive          459       450609\n",
              "foaf                                 631       450609\n",
              "people_pets                          640       450609\n",
              "funding                             1086       450609\n",
              "wine                                1839       450609\n",
              "pizza                               1980       450609\n",
              "core                                2752       450609\n",
              "pathways                           12363       450609\n",
              "enzyme                             86543       450609\n",
              "eclass_514en                      360248       450609\n",
              "go_hierarchy                      490109       450609\n",
              "go                               1437437       450609\n",
              "geospecies                       2201532       450609"
            ]
          },
          "metadata": {},
          "execution_count": 9
        }
      ]
    },
    {
      "cell_type": "markdown",
      "metadata": {
        "id": "EO_sT9hxd-X8"
      },
      "source": [
        "Отметим, что здесь строковый вывод информации происходит из-за функции **get_graph_info_util**"
      ]
    },
    {
      "cell_type": "markdown",
      "metadata": {
        "id": "q9k8DyU68fuQ"
      },
      "source": [
        "## Регулярные запросы\n",
        "\n",
        "Ниже приведены регулярные запросы, которые будут производится к наборам наших графов. \n",
        "\n",
        "Данные запросы используют все общепринятые конструкции регулярных выражений (замыкание, конкатенация, звезда Клини):\n",
        "\n",
        "\n",
        "\n",
        "1.   $L_1 (L_2 |\\ L_3)^*$ \n",
        "2.   $L_1^* (L_2 |\\ L_3)^*$\n",
        "3.   $L_0 L_1 L_2 (L_3 |\\ L_1)^*$\n",
        "4.   $(L_0 |\\ L_3)^* |\\ (L_1 |\\ L_2)^*$\n",
        "\n"
      ]
    },
    {
      "cell_type": "code",
      "metadata": {
        "id": "iZCGk4bYma1Q"
      },
      "source": [
        "from pyformlang.regular_expression.regex_objects import Symbol\n",
        "\n",
        "def regex_from_label(label):\n",
        "  regex = Regex(\"\")\n",
        "  regex.head = Symbol(str(label))\n",
        "  return regex\n",
        "\n",
        "def regex_first(labels):\n",
        "  \"\"\"\n",
        "  l1 (l2 | l3)*\n",
        "  \"\"\"\n",
        "  regex_1 = regex_from_label(labels[0])\n",
        "  regex_2 = regex_from_label(labels[1])\n",
        "  regex_3 = regex_from_label(labels[2])\n",
        "  return regex_1.concatenate((regex_2.union(regex_3)).kleene_star())\n",
        "\n",
        "def regex_second(labels):\n",
        "  \"\"\"\n",
        "   l1* (l2 | l3)*\n",
        "  \"\"\"\n",
        "  regex_1 = regex_from_label(labels[0])\n",
        "  regex_2 = regex_from_label(labels[1])\n",
        "  regex_3 = regex_from_label(labels[2])\n",
        "  return regex_1.kleene_star().concatenate((regex_2.union(regex_3).kleene_star()))\n",
        "\n",
        "def regex_third(labels):\n",
        "  \"\"\"\n",
        "  l0 l1 l2 (l3 | l1)*\n",
        "  \"\"\" \n",
        "  regex_0 = regex_from_label(labels[0])\n",
        "  regex_1 = regex_from_label(labels[1])\n",
        "  regex_2 = regex_from_label(labels[2])\n",
        "  regex_3 = regex_from_label(labels[3])\n",
        "  return regex_0.concatenate(regex_1).concatenate(regex_2).concatenate((regex_3.union(regex_1)).kleene_star())\n",
        "\n",
        "def regex_fourth(labels):\n",
        "  \"\"\"\n",
        "  (l0 | l3)* | (l1 | l2)*\n",
        "  \"\"\"\n",
        "  regex_0 = regex_from_label(labels[0])\n",
        "  regex_1 = regex_from_label(labels[1])\n",
        "  regex_2 = regex_from_label(labels[2])\n",
        "  regex_3 = regex_from_label(labels[3])\n",
        "  left_regex = (regex_0.union(regex_3)).kleene_star()\n",
        "  right_regex = (regex_1.union(regex_2)).kleene_star()\n",
        "  return left_regex.union(right_regex)"
      ],
      "execution_count": 10,
      "outputs": []
    },
    {
      "cell_type": "markdown",
      "metadata": {
        "id": "kpsPO3O1fFaj"
      },
      "source": [
        "## Реализация алгоритма на pyCuBool"
      ]
    },
    {
      "cell_type": "markdown",
      "metadata": {
        "id": "QFZlttV_e3k_"
      },
      "source": [
        "### Класс для булевых матриц \n",
        "Данный класс для булевых матрицы использует библиотеку **pycubool**. \n"
      ]
    },
    {
      "cell_type": "code",
      "metadata": {
        "id": "vkOGp5wKe6Cl"
      },
      "source": [
        "from pyformlang.finite_automaton import NondeterministicFiniteAutomaton\n",
        "import pycubool as cb\n",
        "\n",
        "__all__ = [\"CuBooleanMatrices\"]\n",
        "\n",
        "#Based on gpu library\n",
        "class CuBooleanMatrices:\n",
        "    \"\"\"\n",
        "    Representation of NFA as a Boolean Matrix\n",
        "\n",
        "    Attributes\n",
        "    ----------\n",
        "    states_count: set\n",
        "        Count of states\n",
        "    state_indices: dict\n",
        "        Dictionary of states\n",
        "    start_states: set\n",
        "        Start states of NFA\n",
        "    final_states: set\n",
        "        Final states of NFA\n",
        "    bool_matrices: dict\n",
        "        Dictionary of boolean matrices.\n",
        "        Keys are NFA symbols\n",
        "    \"\"\"\n",
        "\n",
        "    def __init__(self, n_automaton: NondeterministicFiniteAutomaton = None):\n",
        "        if n_automaton is None:\n",
        "            self.states_count = 0\n",
        "            self.state_indices = dict()\n",
        "            self.start_states = set()\n",
        "            self.final_states = set()\n",
        "            self.bool_matrices = dict()\n",
        "        else:\n",
        "            self.states_count = len(n_automaton.states)\n",
        "            self.state_indices = {\n",
        "                state: index for index, state in enumerate(n_automaton.states)\n",
        "            }\n",
        "            self.start_states = n_automaton.start_states\n",
        "            self.final_states = n_automaton.final_states\n",
        "            self.bool_matrices = self.init_bool_matrices(n_automaton)\n",
        "\n",
        "    def get_states(self):\n",
        "        return self.state_indices.keys()\n",
        "\n",
        "    def get_start_states(self):\n",
        "        return self.start_states\n",
        "\n",
        "    def get_final_states(self):\n",
        "        return self.final_states\n",
        "\n",
        "    def init_bool_matrices(self, n_automaton: NondeterministicFiniteAutomaton):\n",
        "        \"\"\"\n",
        "        Initialize boolean matrices of NondeterministicFiniteAutomaton\n",
        "\n",
        "        Parameters\n",
        "        ----------\n",
        "        n_automaton: NondeterministicFiniteAutomaton\n",
        "            NFA to transform to matrix\n",
        "\n",
        "        Returns\n",
        "        -------\n",
        "        bool_matrices: dict\n",
        "            Dict of boolean matrix for every automata label-key\n",
        "        \"\"\"\n",
        "        bool_matrices = dict()\n",
        "        nfa_dict = n_automaton.to_dict()\n",
        "        for state_from, trans in nfa_dict.items():\n",
        "            for label, states_to in trans.items():\n",
        "                if not isinstance(states_to, set):\n",
        "                    states_to = {states_to}\n",
        "                for state_to in states_to:\n",
        "                    index_from = self.state_indices[state_from]\n",
        "                    index_to = self.state_indices[state_to]\n",
        "                    if label not in bool_matrices:\n",
        "                        bool_matrices[label] = cb.Matrix.empty(shape=(self.states_count, self.states_count))           \n",
        "                    bool_matrices[label][index_from, index_to] = True\n",
        "\n",
        "        return bool_matrices\n",
        "\n",
        "    def make_transitive_closure(self):\n",
        "        \"\"\"\n",
        "        Makes transitive closure of boolean matrices\n",
        "\n",
        "        Returns\n",
        "        -------\n",
        "        tc: cuBool matrix\n",
        "            Transitive closure of boolean matrices\n",
        "        \"\"\"\n",
        "        if not self.bool_matrices.values():\n",
        "            return cb.Matrix.empty(shape=(2, 2))\n",
        "\n",
        "        shape = list(self.bool_matrices.values())[0].shape\n",
        "        tc = cb.Matrix.empty(shape=shape)\n",
        "\n",
        "        for elem in self.bool_matrices.values():\n",
        "            tc = tc.ewiseadd(elem)\n",
        "        prev_nnz = tc.nvals\n",
        "        curr_nnz = 0\n",
        "\n",
        "        while prev_nnz != curr_nnz:\n",
        "            tc = tc.ewiseadd(tc.mxm(tc))\n",
        "            prev_nnz, curr_nnz = curr_nnz, tc.nvals\n",
        "\n",
        "\n",
        "        return tc\n"
      ],
      "execution_count": 11,
      "outputs": []
    },
    {
      "cell_type": "markdown",
      "metadata": {
        "id": "iNhYeNWkiQHg"
      },
      "source": [
        "### Дополнительные функции \n",
        "Введем дополнительные функции для работы с классом булевых матриц, объявленных выше"
      ]
    },
    {
      "cell_type": "code",
      "metadata": {
        "id": "Zt4NC8_3iSfo"
      },
      "source": [
        "from pyformlang.finite_automaton import NondeterministicFiniteAutomaton, State\n",
        "import pycubool as cb\n",
        "\n",
        "__all__ = [\"intersect_boolean_matrices\", \"convert_bm_to_automaton\"]\n",
        "\n",
        "\n",
        "def intersect_boolean_matrices(self: CuBooleanMatrices, other: CuBooleanMatrices):\n",
        "    \"\"\"\n",
        "    Makes intersection of self boolean matrix with other\n",
        "\n",
        "    Parameters\n",
        "    ----------\n",
        "    self: CuBooleanMatrices\n",
        "        Left-hand side boolean matrix\n",
        "    other: CuBooleanMatrices\n",
        "        Right-hand side boolean matrix\n",
        "\n",
        "    Returns\n",
        "    -------\n",
        "    intersect_bm: CuBooleanMatrices\n",
        "        Intersection of two boolean matrices\n",
        "    \"\"\"\n",
        "    intersect_bm = CuBooleanMatrices()\n",
        "    intersect_bm.num_states = self.states_count * other.states_count\n",
        "    common_symbols = self.bool_matrices.keys() & other.bool_matrices.keys()\n",
        "\n",
        "    for symbol in common_symbols:\n",
        "        intersect_bm.bool_matrices[symbol] = self.bool_matrices[symbol].kronecker(other.bool_matrices[symbol])\n",
        "        \n",
        "    for state_fst, state_fst_index in self.state_indices.items():\n",
        "        for state_snd, state_snd_idx in other.state_indices.items():\n",
        "            new_state = new_state_idx = (\n",
        "                state_fst_index * other.states_count + state_snd_idx\n",
        "            )\n",
        "            intersect_bm.state_indices[new_state] = new_state_idx\n",
        "\n",
        "            if state_fst in self.start_states and state_snd in other.start_states:\n",
        "                intersect_bm.start_states.add(new_state)\n",
        "\n",
        "            if state_fst in self.final_states and state_snd in other.final_states:\n",
        "                intersect_bm.final_states.add(new_state)\n",
        "\n",
        "    return intersect_bm\n",
        "\n",
        "\n",
        "def convert_bm_to_automaton(boolean_matrices: CuBooleanMatrices):\n",
        "    \"\"\"\n",
        "    Converts CuBooleanMatrices to NFA\n",
        "\n",
        "    Returns\n",
        "    -------\n",
        "    automaton: NondeterministicFiniteAutomaton\n",
        "        Representation of CuBooleanMatrices as NFA\n",
        "    \"\"\"\n",
        "    automaton = NondeterministicFiniteAutomaton()\n",
        "    for label, bool_matrix in boolean_matrices.bool_matrices.items():\n",
        "        for state_from, state_to in zip(*bool_matrix.nonzero()):\n",
        "            automaton.add_transition(state_from, label, state_to)\n",
        "\n",
        "    for state in boolean_matrices.start_states:\n",
        "        automaton.add_start_state(State(state))\n",
        "\n",
        "    for state in boolean_matrices.final_states:\n",
        "        automaton.add_final_state(State(state))\n",
        "\n",
        "    return automaton\n"
      ],
      "execution_count": 12,
      "outputs": []
    },
    {
      "cell_type": "markdown",
      "metadata": {
        "id": "AxbTxKVfkcix"
      },
      "source": [
        "Функция, предназначенная для выполнения регулярных запросов"
      ]
    },
    {
      "cell_type": "code",
      "metadata": {
        "id": "V6DHNSEAkeGZ"
      },
      "source": [
        "import networkx as nx\n",
        "from project import get_nfa_by_graph, regex_to_min_dfa\n",
        "from pyformlang.regular_expression import Regex\n",
        "\n",
        "__all__ = [\"cu_bool_rpq\"]\n",
        "\n",
        "\n",
        "def cu_bool_rpq(\n",
        "    graph: nx.MultiDiGraph,\n",
        "    query: Regex,\n",
        "    start_nodes: set = None,\n",
        "    final_nodes: set = None,\n",
        ") -> set:\n",
        "    \"\"\"\n",
        "    Computes Regular Path Querying from given graph and regular expression\n",
        "\n",
        "    Parameters\n",
        "    ----------\n",
        "    graph: MultiDiGraph\n",
        "       Labeled graph\n",
        "    query: str\n",
        "       Regular expression given as string\n",
        "    start_nodes: set, default=None\n",
        "       Start states in NFA\n",
        "    final_nodes: set, default=None\n",
        "       Final states in NFA\n",
        "\n",
        "    Returns\n",
        "    -------\n",
        "    result_set: set\n",
        "       Regular Path Querying\n",
        "    \"\"\"\n",
        "    nfa_by_graph = get_nfa_by_graph(graph, start_nodes, final_nodes)\n",
        "    dfa_by_graph = query.to_epsilon_nfa().minimize()\n",
        "\n",
        "    graph_bm = CuBooleanMatrices(nfa_by_graph)\n",
        "    query_bm = CuBooleanMatrices(dfa_by_graph)\n",
        "\n",
        "    intersected_bm = intersect_boolean_matrices(graph_bm, query_bm)\n",
        "    transitive_closure = intersected_bm.make_transitive_closure()\n",
        "\n",
        "    start_states = intersected_bm.get_start_states()\n",
        "    final_states = intersected_bm.get_final_states()\n",
        "\n",
        "    result_set = set()\n",
        "\n",
        "    for state_from, state_to in transitive_closure.to_list():\n",
        "        if state_from in start_states and state_to in final_states:\n",
        "            result_set.add(\n",
        "                (state_from // query_bm.states_count, state_to // query_bm.states_count)\n",
        "            )\n",
        "\n",
        "    return result_set\n"
      ],
      "execution_count": 13,
      "outputs": []
    },
    {
      "cell_type": "markdown",
      "metadata": {
        "id": "nx9BMo4GS9hf"
      },
      "source": [
        "## Методология проведения эксперимента\n",
        "Для сравнения производительности алгоритма к каждому графу создается по 4 регулярных запроса. Далее измеряется время работы алгоритма (разных реализаций) в мс для каждого графа и списка запросов. Каждый запрос выполнялся на каждом графе 3 раза. Данное число измерений было выбрано из соображения баланса между точностью результата и длительностью эксперимента. \n",
        "\n",
        "В эксперименте оцениваются следующий показатель: \n",
        "*   лучший результат из 3 запросов\n",
        "\n"
      ]
    },
    {
      "cell_type": "markdown",
      "metadata": {
        "id": "AdJo9ildf7UL"
      },
      "source": [
        "## Среда выполнения\n"
      ]
    },
    {
      "cell_type": "markdown",
      "metadata": {
        "id": "lbFsgaj-gBqK"
      },
      "source": [
        "Операционная система"
      ]
    },
    {
      "cell_type": "code",
      "metadata": {
        "colab": {
          "base_uri": "https://localhost:8080/"
        },
        "id": "Y6N0uUMIgDKb",
        "outputId": "39e701e7-a630-4aef-989b-9f5a685b2f6f"
      },
      "source": [
        "!cat /etc/os-release"
      ],
      "execution_count": 14,
      "outputs": [
        {
          "output_type": "stream",
          "name": "stdout",
          "text": [
            "NAME=\"Ubuntu\"\n",
            "VERSION=\"18.04.5 LTS (Bionic Beaver)\"\n",
            "ID=ubuntu\n",
            "ID_LIKE=debian\n",
            "PRETTY_NAME=\"Ubuntu 18.04.5 LTS\"\n",
            "VERSION_ID=\"18.04\"\n",
            "HOME_URL=\"https://www.ubuntu.com/\"\n",
            "SUPPORT_URL=\"https://help.ubuntu.com/\"\n",
            "BUG_REPORT_URL=\"https://bugs.launchpad.net/ubuntu/\"\n",
            "PRIVACY_POLICY_URL=\"https://www.ubuntu.com/legal/terms-and-policies/privacy-policy\"\n",
            "VERSION_CODENAME=bionic\n",
            "UBUNTU_CODENAME=bionic\n"
          ]
        }
      ]
    },
    {
      "cell_type": "markdown",
      "metadata": {
        "id": "rj0O_11Qgj5a"
      },
      "source": [
        "Информация о CPU:"
      ]
    },
    {
      "cell_type": "code",
      "metadata": {
        "colab": {
          "base_uri": "https://localhost:8080/"
        },
        "id": "fywRYeuYgmN8",
        "outputId": "0d6dd254-00e0-4746-cf63-ea7ae9df322e"
      },
      "source": [
        "!lscpu | grep 'Model name'\n",
        "!lscpu | grep 'Socket(s)'\n",
        "!lscpu | grep 'Core(s) per socket:'\n",
        "!lscpu | grep 'Thread(s) per core'\n",
        "!lscpu | grep \"MHz\""
      ],
      "execution_count": null,
      "outputs": [
        {
          "output_type": "stream",
          "name": "stdout",
          "text": [
            "Model name:          Intel(R) Xeon(R) CPU @ 2.30GHz\n",
            "Socket(s):           1\n",
            "Core(s) per socket:  1\n",
            "Thread(s) per core:  2\n",
            "CPU MHz:             2299.998\n"
          ]
        }
      ]
    },
    {
      "cell_type": "markdown",
      "metadata": {
        "id": "h5aAlytPgoIA"
      },
      "source": [
        "Информация о GPU:"
      ]
    },
    {
      "cell_type": "code",
      "metadata": {
        "colab": {
          "base_uri": "https://localhost:8080/"
        },
        "id": "5S5L03o6gpmv",
        "outputId": "6aea7bef-64f7-4afe-b5ae-2acac8e341f7"
      },
      "source": [
        "!nvidia-smi"
      ],
      "execution_count": null,
      "outputs": [
        {
          "output_type": "stream",
          "name": "stdout",
          "text": [
            "Tue Oct 12 17:19:43 2021       \n",
            "+-----------------------------------------------------------------------------+\n",
            "| NVIDIA-SMI 470.74       Driver Version: 460.32.03    CUDA Version: 11.2     |\n",
            "|-------------------------------+----------------------+----------------------+\n",
            "| GPU  Name        Persistence-M| Bus-Id        Disp.A | Volatile Uncorr. ECC |\n",
            "| Fan  Temp  Perf  Pwr:Usage/Cap|         Memory-Usage | GPU-Util  Compute M. |\n",
            "|                               |                      |               MIG M. |\n",
            "|===============================+======================+======================|\n",
            "|   0  Tesla K80           Off  | 00000000:00:04.0 Off |                    0 |\n",
            "| N/A   69C    P8    31W / 149W |      0MiB / 11441MiB |      0%      Default |\n",
            "|                               |                      |                  N/A |\n",
            "+-------------------------------+----------------------+----------------------+\n",
            "                                                                               \n",
            "+-----------------------------------------------------------------------------+\n",
            "| Processes:                                                                  |\n",
            "|  GPU   GI   CI        PID   Type   Process name                  GPU Memory |\n",
            "|        ID   ID                                                   Usage      |\n",
            "|=============================================================================|\n",
            "|  No running processes found                                                 |\n",
            "+-----------------------------------------------------------------------------+\n"
          ]
        }
      ]
    },
    {
      "cell_type": "markdown",
      "metadata": {
        "id": "bxbNG9EEgrLd"
      },
      "source": [
        "Информация о RAM:"
      ]
    },
    {
      "cell_type": "code",
      "metadata": {
        "colab": {
          "base_uri": "https://localhost:8080/"
        },
        "id": "EiuRDohzgvIB",
        "outputId": "ffbb46d0-ced5-43e9-bbb5-15e6129293a6"
      },
      "source": [
        "!grep MemTotal /proc/meminfo"
      ],
      "execution_count": null,
      "outputs": [
        {
          "output_type": "stream",
          "name": "stdout",
          "text": [
            "MemTotal:       13302924 kB\n"
          ]
        }
      ]
    },
    {
      "cell_type": "markdown",
      "metadata": {
        "id": "a1dF-yRJqdPr"
      },
      "source": [
        "## Эксперимент"
      ]
    },
    {
      "cell_type": "code",
      "metadata": {
        "id": "fPMIJI7GrYix"
      },
      "source": [
        "regex_list = [\"L1 (L2 | L3)*\", \"L1* (L2 | L3)*\", \n",
        "                  \"L0 L1 L2(L3 | L1)*\", \"(L0 | L3)* | (L1 | L2)*\"]\n",
        "\n",
        "df_scipy_res = pd.DataFrame(index=regex_list, columns=GRAPHS)\n",
        "\n",
        "df_pycubool_res = pd.DataFrame(index=regex_list, columns=GRAPHS)\n"
      ],
      "execution_count": 19,
      "outputs": []
    },
    {
      "cell_type": "markdown",
      "metadata": {
        "id": "BI7qa1NIrMes"
      },
      "source": [
        "### Алгоритм, основанный на scipy.sparse"
      ]
    },
    {
      "cell_type": "code",
      "metadata": {
        "id": "wN6OKqdTmsJQ"
      },
      "source": [
        "from cfpq_data import graph_from_dataset, get_labels\n",
        "from project import rpq\n",
        "\n",
        "REGULAR_QUERIES = (regex_first, regex_second, regex_third, regex_fourth)\n",
        "\n",
        "\n",
        "for graph_name in GRAPHS:\n",
        "  graph = graph_from_dataset(graph_name, verbose=False)\n",
        "  labels = list(get_labels(graph, verbose=False))\n",
        "\n",
        "  for index, regex in enumerate(REGULAR_QUERIES):\n",
        "    regular_expression = str(regex(labels))\n",
        "    curr_time = %timeit -n 3 -o -q result = rpq(graph, regular_expression)\n",
        "    \n",
        "    df_scipy_res.loc[regex_list[index], graph_name] = curr_time.best * 1000\n"
      ],
      "execution_count": null,
      "outputs": []
    },
    {
      "cell_type": "markdown",
      "metadata": {
        "id": "sQA7unj_4rkj"
      },
      "source": [
        "Сохранение результатов в csv файл"
      ]
    },
    {
      "cell_type": "code",
      "metadata": {
        "id": "8V_SjMcp4vAZ"
      },
      "source": [
        "df_scipy_res.to_csv('scipy_res.csv')"
      ],
      "execution_count": null,
      "outputs": []
    },
    {
      "cell_type": "markdown",
      "metadata": {
        "id": "aR9pcp62u0yb"
      },
      "source": [
        "### Алгоритм, основанный на pyCuBool"
      ]
    },
    {
      "cell_type": "code",
      "metadata": {
        "id": "8eFQXZ_yFrIt"
      },
      "source": [
        "from cfpq_data import graph_from_dataset, get_labels\n",
        "\n",
        "REGULAR_QUERIES = (regex_first, regex_second, regex_third, regex_fourth)\n",
        "\n",
        "\n",
        "for graph_name in GRAPHS:\n",
        "  graph = graph_from_dataset(graph_name, verbose=False)\n",
        "  labels = list(get_labels(graph, verbose=False))\n",
        "\n",
        "  for index, regex in enumerate(REGULAR_QUERIES):\n",
        "    regular_expression = regex(labels)\n",
        "    curr_time = %timeit -n 3 -o -q result = cu_bool_rpq(graph, regular_expression)\n",
        "    \n",
        "    df_pycubool_res.loc[regex_list[index], graph_name] = curr_time.best * 1000\n"
      ],
      "execution_count": null,
      "outputs": []
    },
    {
      "cell_type": "markdown",
      "metadata": {
        "id": "bUpYbDle4-9I"
      },
      "source": [
        "Сохранение результатов в csv файл"
      ]
    },
    {
      "cell_type": "code",
      "metadata": {
        "id": "twowXPHc5Atn"
      },
      "source": [
        "df_pycubool_res.to_csv('pycubool_res.csv')"
      ],
      "execution_count": null,
      "outputs": []
    },
    {
      "cell_type": "markdown",
      "metadata": {
        "id": "q9SSBeaqWNXF"
      },
      "source": [
        "### Полученные результаты"
      ]
    },
    {
      "cell_type": "markdown",
      "metadata": {
        "id": "me_-wCa_Up2w"
      },
      "source": [
        "#### **Алгоритм, основанный на scipy.sparse**\n",
        "##### Время работы алгоритма (в мс) в зависимости от графа и регулярного выражения:\n",
        "\n",
        "\n",
        "\n"
      ]
    },
    {
      "cell_type": "code",
      "metadata": {
        "colab": {
          "base_uri": "https://localhost:8080/",
          "height": 314
        },
        "id": "riYYOM-z3Yr0",
        "outputId": "fb7a7090-f405-437e-d0f2-e1d1fab9dfc9"
      },
      "source": [
        "df_scipy_res"
      ],
      "execution_count": 21,
      "outputs": [
        {
          "output_type": "execute_result",
          "data": {
            "text/html": [
              "<div>\n",
              "<style scoped>\n",
              "    .dataframe tbody tr th:only-of-type {\n",
              "        vertical-align: middle;\n",
              "    }\n",
              "\n",
              "    .dataframe tbody tr th {\n",
              "        vertical-align: top;\n",
              "    }\n",
              "\n",
              "    .dataframe thead th {\n",
              "        text-align: right;\n",
              "    }\n",
              "</style>\n",
              "<table border=\"1\" class=\"dataframe\">\n",
              "  <thead>\n",
              "    <tr style=\"text-align: right;\">\n",
              "      <th></th>\n",
              "      <th>Unnamed: 0</th>\n",
              "      <th>skos</th>\n",
              "      <th>generations</th>\n",
              "      <th>travel</th>\n",
              "      <th>univ_bench</th>\n",
              "      <th>atom_primitive</th>\n",
              "      <th>biomedical_mesure_primitive</th>\n",
              "      <th>foaf</th>\n",
              "      <th>people_pets</th>\n",
              "      <th>funding</th>\n",
              "      <th>wine</th>\n",
              "      <th>pizza</th>\n",
              "      <th>core</th>\n",
              "      <th>pathways</th>\n",
              "      <th>enzyme</th>\n",
              "      <th>eclass_514en</th>\n",
              "      <th>go_hierarchy</th>\n",
              "      <th>go</th>\n",
              "      <th>geospecies</th>\n",
              "    </tr>\n",
              "  </thead>\n",
              "  <tbody>\n",
              "    <tr>\n",
              "      <th>0</th>\n",
              "      <td>L1 (L2 | L3)*</td>\n",
              "      <td>26.937620</td>\n",
              "      <td>29.716950</td>\n",
              "      <td>27.926575</td>\n",
              "      <td>32.128161</td>\n",
              "      <td>47.035875</td>\n",
              "      <td>58.577086</td>\n",
              "      <td>59.690414</td>\n",
              "      <td>66.832614</td>\n",
              "      <td>114.577661</td>\n",
              "      <td>169.754683</td>\n",
              "      <td>175.572096</td>\n",
              "      <td>274.748120</td>\n",
              "      <td>1248.813167</td>\n",
              "      <td>8372.415736</td>\n",
              "      <td>44781.847305</td>\n",
              "      <td>35213.471203</td>\n",
              "      <td>176720.071117</td>\n",
              "      <td>194987.017497</td>\n",
              "    </tr>\n",
              "    <tr>\n",
              "      <th>1</th>\n",
              "      <td>L1* (L2 | L3)*</td>\n",
              "      <td>27.433018</td>\n",
              "      <td>30.907510</td>\n",
              "      <td>28.940275</td>\n",
              "      <td>31.348838</td>\n",
              "      <td>48.226873</td>\n",
              "      <td>55.176651</td>\n",
              "      <td>64.703553</td>\n",
              "      <td>67.320527</td>\n",
              "      <td>118.489582</td>\n",
              "      <td>173.989737</td>\n",
              "      <td>174.370239</td>\n",
              "      <td>273.645434</td>\n",
              "      <td>1248.305383</td>\n",
              "      <td>8523.424460</td>\n",
              "      <td>45271.856150</td>\n",
              "      <td>34930.581249</td>\n",
              "      <td>192381.117963</td>\n",
              "      <td>195971.497321</td>\n",
              "    </tr>\n",
              "    <tr>\n",
              "      <th>2</th>\n",
              "      <td>L0 L1 L2(L3 | L1)*</td>\n",
              "      <td>31.483814</td>\n",
              "      <td>31.373796</td>\n",
              "      <td>31.728435</td>\n",
              "      <td>36.111215</td>\n",
              "      <td>51.295124</td>\n",
              "      <td>62.544296</td>\n",
              "      <td>61.782723</td>\n",
              "      <td>74.330668</td>\n",
              "      <td>122.876851</td>\n",
              "      <td>190.271286</td>\n",
              "      <td>184.534778</td>\n",
              "      <td>289.794789</td>\n",
              "      <td>1306.699510</td>\n",
              "      <td>9123.258657</td>\n",
              "      <td>47375.948754</td>\n",
              "      <td>35831.591263</td>\n",
              "      <td>190381.924301</td>\n",
              "      <td>201832.120815</td>\n",
              "    </tr>\n",
              "    <tr>\n",
              "      <th>3</th>\n",
              "      <td>(L0 | L3)* | (L1 | L2)*</td>\n",
              "      <td>31.490785</td>\n",
              "      <td>32.350010</td>\n",
              "      <td>38.905690</td>\n",
              "      <td>35.854784</td>\n",
              "      <td>53.011852</td>\n",
              "      <td>58.151427</td>\n",
              "      <td>66.136575</td>\n",
              "      <td>69.087267</td>\n",
              "      <td>125.098088</td>\n",
              "      <td>184.066569</td>\n",
              "      <td>183.642657</td>\n",
              "      <td>291.481069</td>\n",
              "      <td>1279.326143</td>\n",
              "      <td>8831.867305</td>\n",
              "      <td>49901.857190</td>\n",
              "      <td>35091.481184</td>\n",
              "      <td>190562.573065</td>\n",
              "      <td>203968.917805</td>\n",
              "    </tr>\n",
              "  </tbody>\n",
              "</table>\n",
              "</div>"
            ],
            "text/plain": [
              "                Unnamed: 0       skos  ...             go     geospecies\n",
              "0            L1 (L2 | L3)*  26.937620  ...  176720.071117  194987.017497\n",
              "1           L1* (L2 | L3)*  27.433018  ...  192381.117963  195971.497321\n",
              "2       L0 L1 L2(L3 | L1)*  31.483814  ...  190381.924301  201832.120815\n",
              "3  (L0 | L3)* | (L1 | L2)*  31.490785  ...  190562.573065  203968.917805\n",
              "\n",
              "[4 rows x 19 columns]"
            ]
          },
          "metadata": {},
          "execution_count": 21
        }
      ]
    },
    {
      "cell_type": "markdown",
      "metadata": {
        "id": "1v30CA2ba_zm"
      },
      "source": [
        "#### **Алгоритм, основанный на pycubool**\n",
        "##### Время работы алгоритма (в мс) в зависимости от графа и регулярного выражения:\n",
        "\n",
        "\n",
        "\n",
        " "
      ]
    },
    {
      "cell_type": "code",
      "metadata": {
        "colab": {
          "base_uri": "https://localhost:8080/",
          "height": 314
        },
        "id": "FzcqPT0A5JtT",
        "outputId": "e8c41262-8e63-495a-edfd-d669d36ceff3"
      },
      "source": [
        "df_pycubool_res"
      ],
      "execution_count": 24,
      "outputs": [
        {
          "output_type": "execute_result",
          "data": {
            "text/html": [
              "<div>\n",
              "<style scoped>\n",
              "    .dataframe tbody tr th:only-of-type {\n",
              "        vertical-align: middle;\n",
              "    }\n",
              "\n",
              "    .dataframe tbody tr th {\n",
              "        vertical-align: top;\n",
              "    }\n",
              "\n",
              "    .dataframe thead th {\n",
              "        text-align: right;\n",
              "    }\n",
              "</style>\n",
              "<table border=\"1\" class=\"dataframe\">\n",
              "  <thead>\n",
              "    <tr style=\"text-align: right;\">\n",
              "      <th></th>\n",
              "      <th>Unnamed: 0</th>\n",
              "      <th>skos</th>\n",
              "      <th>generations</th>\n",
              "      <th>travel</th>\n",
              "      <th>univ_bench</th>\n",
              "      <th>atom_primitive</th>\n",
              "      <th>biomedical_mesure_primitive</th>\n",
              "      <th>foaf</th>\n",
              "      <th>people_pets</th>\n",
              "      <th>funding</th>\n",
              "      <th>wine</th>\n",
              "      <th>pizza</th>\n",
              "      <th>core</th>\n",
              "      <th>pathways</th>\n",
              "      <th>enzyme</th>\n",
              "      <th>eclass_514en</th>\n",
              "      <th>go_hierarchy</th>\n",
              "      <th>go</th>\n",
              "      <th>geospecies</th>\n",
              "    </tr>\n",
              "  </thead>\n",
              "  <tbody>\n",
              "    <tr>\n",
              "      <th>0</th>\n",
              "      <td>L1 (L2 | L3)*</td>\n",
              "      <td>23.345346</td>\n",
              "      <td>23.383898</td>\n",
              "      <td>22.318093</td>\n",
              "      <td>25.644526</td>\n",
              "      <td>39.141207</td>\n",
              "      <td>41.848726</td>\n",
              "      <td>48.430614</td>\n",
              "      <td>55.826003</td>\n",
              "      <td>97.462780</td>\n",
              "      <td>159.631252</td>\n",
              "      <td>146.061300</td>\n",
              "      <td>244.937493</td>\n",
              "      <td>1059.690324</td>\n",
              "      <td>7410.373415</td>\n",
              "      <td>37168.790216</td>\n",
              "      <td>27316.093957</td>\n",
              "      <td>162915.342890</td>\n",
              "      <td>179216.788958</td>\n",
              "    </tr>\n",
              "    <tr>\n",
              "      <th>1</th>\n",
              "      <td>L1* (L2 | L3)*</td>\n",
              "      <td>21.345799</td>\n",
              "      <td>23.347533</td>\n",
              "      <td>22.365214</td>\n",
              "      <td>25.457005</td>\n",
              "      <td>38.957658</td>\n",
              "      <td>45.032373</td>\n",
              "      <td>49.106758</td>\n",
              "      <td>56.555636</td>\n",
              "      <td>96.185554</td>\n",
              "      <td>159.776661</td>\n",
              "      <td>146.432259</td>\n",
              "      <td>243.140946</td>\n",
              "      <td>1074.999626</td>\n",
              "      <td>7412.786602</td>\n",
              "      <td>37669.018073</td>\n",
              "      <td>26703.247384</td>\n",
              "      <td>163358.811113</td>\n",
              "      <td>180317.092748</td>\n",
              "    </tr>\n",
              "    <tr>\n",
              "      <th>2</th>\n",
              "      <td>L0 L1 L2(L3 | L1)*</td>\n",
              "      <td>22.719832</td>\n",
              "      <td>23.234535</td>\n",
              "      <td>24.392444</td>\n",
              "      <td>26.566552</td>\n",
              "      <td>41.483552</td>\n",
              "      <td>47.192517</td>\n",
              "      <td>50.901283</td>\n",
              "      <td>56.147996</td>\n",
              "      <td>104.088027</td>\n",
              "      <td>164.010024</td>\n",
              "      <td>152.106038</td>\n",
              "      <td>257.211026</td>\n",
              "      <td>1095.367551</td>\n",
              "      <td>7732.830444</td>\n",
              "      <td>39132.222589</td>\n",
              "      <td>27092.806149</td>\n",
              "      <td>163380.116678</td>\n",
              "      <td>180522.096709</td>\n",
              "    </tr>\n",
              "    <tr>\n",
              "      <th>3</th>\n",
              "      <td>(L0 | L3)* | (L1 | L2)*</td>\n",
              "      <td>21.934952</td>\n",
              "      <td>25.363454</td>\n",
              "      <td>24.553496</td>\n",
              "      <td>28.115576</td>\n",
              "      <td>40.657536</td>\n",
              "      <td>43.444660</td>\n",
              "      <td>49.357560</td>\n",
              "      <td>57.803577</td>\n",
              "      <td>103.491368</td>\n",
              "      <td>161.850983</td>\n",
              "      <td>148.824248</td>\n",
              "      <td>250.464707</td>\n",
              "      <td>1095.529918</td>\n",
              "      <td>7643.017224</td>\n",
              "      <td>38793.831876</td>\n",
              "      <td>26087.297380</td>\n",
              "      <td>159711.500791</td>\n",
              "      <td>174877.262997</td>\n",
              "    </tr>\n",
              "  </tbody>\n",
              "</table>\n",
              "</div>"
            ],
            "text/plain": [
              "                Unnamed: 0       skos  ...             go     geospecies\n",
              "0            L1 (L2 | L3)*  23.345346  ...  162915.342890  179216.788958\n",
              "1           L1* (L2 | L3)*  21.345799  ...  163358.811113  180317.092748\n",
              "2       L0 L1 L2(L3 | L1)*  22.719832  ...  163380.116678  180522.096709\n",
              "3  (L0 | L3)* | (L1 | L2)*  21.934952  ...  159711.500791  174877.262997\n",
              "\n",
              "[4 rows x 19 columns]"
            ]
          },
          "metadata": {},
          "execution_count": 24
        }
      ]
    },
    {
      "cell_type": "markdown",
      "metadata": {
        "id": "f7AJStuJc7Pd"
      },
      "source": [
        "## Анализ полученных результатов\n",
        "\n"
      ]
    },
    {
      "cell_type": "markdown",
      "metadata": {
        "id": "lBZVsVjj7B4h"
      },
      "source": [
        "### Количество времени на каждый запрос для каждого графа для sparse"
      ]
    },
    {
      "cell_type": "code",
      "metadata": {
        "colab": {
          "base_uri": "https://localhost:8080/",
          "height": 1000
        },
        "id": "FB0ABvVG7HYv",
        "outputId": "a1d936f2-c3d3-4bfe-f004-ba9c162a4e11"
      },
      "source": [
        "import matplotlib.pyplot as plt\n",
        "import seaborn as sns\n",
        "%matplotlib inline\n",
        "\n",
        "fig, axes = plt.subplots(6, 3, figsize=(18, 20))\n",
        "fig.subplots_adjust(left=0.05, bottom=0.1, right=0.9, top=0.9, wspace=0.2, hspace=0.5)\n",
        "fig.suptitle('Производительность алгоритмов на графах для scipy', fontsize=25)\n",
        "\n",
        "for i, name in enumerate(GRAPHS):\n",
        "  ax = sns.barplot(ax=axes[i // 3, i % 3], data=df_scipy_res, x=df_scipy_res.index, y=name)\n",
        "  ax.set_title(name)\n",
        "  ax.set(title=name, ylabel=\"Time (ms)\", xlabel=\"Query number\")"
      ],
      "execution_count": 28,
      "outputs": [
        {
          "output_type": "display_data",
          "data": {
            "image/png": "[encoded data removed]",
            "text/plain": [
              "<Figure size 1296x1440 with 18 Axes>"
            ]
          },
          "metadata": {
            "needs_background": "light"
          }
        }
      ]
    },
    {
      "cell_type": "markdown",
      "metadata": {
        "id": "VvXV_n_08JGU"
      },
      "source": [
        "### Количество времени на каждый запрос для каждого графа для pycubool"
      ]
    },
    {
      "cell_type": "code",
      "metadata": {
        "colab": {
          "base_uri": "https://localhost:8080/",
          "height": 1000
        },
        "id": "F89J24ot8gbS",
        "outputId": "2de6d36e-1c7c-4eb2-f0fd-be6d7c835b0a"
      },
      "source": [
        "import matplotlib.pyplot as plt\n",
        "import seaborn as sns\n",
        "%matplotlib inline\n",
        "\n",
        "fig, axes = plt.subplots(6, 3, figsize=(18, 20))\n",
        "fig.subplots_adjust(left=0.05, bottom=0.1, right=0.9, top=0.9, wspace=0.2, hspace=0.5)\n",
        "fig.suptitle('Производительность алгоритмов на графах для pycubool', fontsize=25)\n",
        "\n",
        "for i, name in enumerate(GRAPHS):\n",
        "  ax = sns.barplot(ax=axes[i // 3, i % 3], data=df_pycubool_res, x=df_pycubool_res.index, y=name)\n",
        "  ax.set_title(name)\n",
        "  ax.set(title=name, ylabel=\"Time (ms)\", xlabel=\"Query number\")"
      ],
      "execution_count": 29,
      "outputs": [
        {
          "output_type": "display_data",
          "data": {
            "image/png": "[encoded data removed]",
            "text/plain": [
              "<Figure size 1296x1440 with 18 Axes>"
            ]
          },
          "metadata": {
            "needs_background": "light"
          }
        }
      ]
    },
    {
      "cell_type": "markdown",
      "metadata": {
        "id": "r3kkjJMU8vZi"
      },
      "source": [
        "Исходя из полученных данных и построенных таблиц и графиков, видно, что алгоритм, реализованный с использованием библиотеки **pycubool** показал лучшие результаты, нежели алгоритм, реализованный с использованием библиотеки **scipy.sparse**. Примечательно также, что \"выигрыш\", то есть разница по времени между двумя алгоритма в процентном соотношении составляет примерно 20%."
      ]
    },
    {
      "cell_type": "markdown",
      "metadata": {
        "id": "KOHHFskXfB0O"
      },
      "source": [
        "### Заключение\n",
        "\n",
        "Как было уставновлено выше, алгоритм решения задачи $RPQ$ показал лучшие результаты в случае применения библиотеки *pycubool* для реализации операций с булевыми матрицами. Результат можно объяснить тем, что библиотека *pycubool* во внутренней реализации использует возможности *NVIDIA CUDA*. Цель исследования успешно достигнута.\n"
      ]
    }
  ]
}