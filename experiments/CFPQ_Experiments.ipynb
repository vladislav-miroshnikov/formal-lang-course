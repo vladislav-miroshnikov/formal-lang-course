{
  "nbformat": 4,
  "nbformat_minor": 0,
  "metadata": {
    "colab": {
      "name": "CFPQ.ipynb",
      "provenance": []
    },
    "kernelspec": {
      "name": "python3",
      "display_name": "Python 3"
    },
    "language_info": {
      "name": "python"
    }
  },
  "cells": [
    {
      "cell_type": "markdown",
      "metadata": {
        "id": "R1s5-ZKPvJ54"
      },
      "source": [
        "# Задача 12. Экспериментальное исследование алгоритмов решения задачи достижимости с КС ограничениями\n",
        "# Автор: [Vladislav Miroshnikov](https://github.com/vladislav-miroshnikov)\n"
      ]
    },
    {
      "cell_type": "markdown",
      "metadata": {
        "id": "eBSWaL6AvWBJ"
      },
      "source": [
        "## Введение\n",
        "Пусть имеется размеченный ориентированный граф $G$. Будем интерпретировать его как конечный автомат. Таким образом, считаем, что граф $G$ (его представление в виде КА) задает регулярный язык $L_G$.\n",
        "\n",
        "Пусть нам задана КС-грамматика $CFG$, задающая язык ограничений $L_{CFG}$.\n",
        "\n",
        "Рассмотрим задачу $CFPQ = \\{(v_i, v_j)|\\exists\\pi:w(v_i\\pi v_j)\\in L, v_i\\in V_S, v_j\\in V_F\\}$, где $L = L_G\\cap L_{CFG}$\n",
        "\n",
        "Для языка $L_{CFG}$ строим рекурсивный автомат --- в нашем случае являющийся конечным автоматом над смешанным алфавитом грамматики."
      ]
    },
    {
      "cell_type": "markdown",
      "metadata": {
        "id": "QeZHINJ40Yf9"
      },
      "source": [
        "## Постановка задачи\n",
        "Задача посвящена анализу производительности различных алгоритмов решения задачи достижимости с контекстно-свободными ограничениями: алгоритма Хеллингса, матричного алгоритма, тензорного алгоритма. В ходе анализа необходимо\n",
        "- Сравнить производительности реализаций различных алгоритмов для одной аппаратной платформы (CPU, GPU) и определить наиболее производительный алгоритм в рамках одной платформы.\n",
        "- Сравнить производительности различных реализаций алгоритмов для разных платформ (CPU vs. GPU) и определить наиболее производительную реализацию.\n",
        "- Сравнить производительности CFPQ алгоритмов со специализированными RPQ алгоритмами в задаче RPQ анализа и определить необходимость существования решения для частных случаев."
      ]
    },
    {
      "cell_type": "markdown",
      "metadata": {
        "id": "jiHQYjlV0xSX"
      },
      "source": [
        "## Ход работы\n",
        "\n",
        "- [x] Используя [pyCuBool](https://pypi.org/project/pycubool/) реализовать матричный алгоритм решения задачи достижимости с КС ограничениями. Аналогично тому, как это было сделано в домашней работе 10.\n",
        "- [x] Используя [pyCuBool](https://pypi.org/project/pycubool/) реализовать тензорный алгоритм решения задачи достижимости с КС ограничениями. Аналогично тому, как это было сделано в домашней работе 11.\n",
        "- [x] Подключить реализацию алгоритма Хеллингса из работы 9, матричного из 10 и тензорного из 11.\n",
        "- [ ] Сформировать набор данных.\n",
        "  - [x] Выбрать все графы из раздела [RDF](https://jetbrains-research.github.io/CFPQ_Data/dataset/RDF.html).\n",
        "  - [ ] Запросы к RDF состоят из следующих блоков\n",
        "    - Запросы из работы 5. Так как регулярные языки --- это подмножество контекстно-свободных, то решения, рассматриваемые в данной работе должны справляться с ними. Взять необходимо ровно те запросы, которые использовали именно вы. При этом, обратите внимание на то, что для разных алгоритмов нужен разный формат входа. Например, для тензорного грамматику из регулярного выражения можно получить просто сделав это выражение правой частью единственного правила.\n",
        "    - Три классических запроса для анализа иерархии.\n",
        "      - ```S -> subClassOf_r S subClassOf | type_r S type | subClassOf_r subClassOf | type_r type ```\n",
        "      - ```S -> subClassOf_r S subClassOf | subClassOf ```\n",
        "      - ```S -> broaderTransitive S broaderTransitive_r | broaderTransitive broaderTransitive_r ```\n",
        "  - [ ] Выбрать графы bzip, gzip, ls, init, drivers, arch. Это графы, построенные по реальным программам и предназначенные для решения задач статического анализа.\n",
        "  - [ ] Для статического анализа использовать единственный запрос. Обратите внимание, что он записан в максимально общем виде и непосредственно грамматика будет зависеть от алгоритма, который будет исследоваться.\n",
        "    - ```\n",
        "       M -> d_r V d\n",
        "       V -> (M? a_r)∗ M? (a M?)∗\n",
        "      ```\n",
        "- [ ] С использованием сформированного набора данных провести сравнение производительности следующих решений\n",
        "  - алгоритм Хеллингса\n",
        "  - матричный алгоритм, реализованный с использованием sciPy\n",
        "  - тензорный алгоритм, реализованный с использованием sciPy\n",
        "  - матричный алгоритм, реализованный с использованием pyCuBool\n",
        "  - тензорный алгоритм, реализованный с использованием pyCuBool\n",
        "  - алгоритм выполнения регулярных запросов, реализованный с использованием pyCuBool (работа 5). Здесь только для RDF и регулярных запросов.\n",
        "  - алгоритм выполнения регулярных запросов, реализованный с использованием sciPy. Здесь только для RDF и регулярных запросов.\n",
        "- [ ] Оформить результаты экспериментов\n",
        "- [ ] Провести анализ результатов\n",
        "- [ ] Сделать notebook доступным по ссылке (обязательно выдать права на комментирование проверяющему)"
      ]
    },
    {
      "cell_type": "markdown",
      "metadata": {
        "id": "6QIvm2V1lzNi"
      },
      "source": [
        "## Исследуемые решения\n",
        "Элементами матрицы смежности конечного автомата являются подмножества его меток. Чтобы не вводить операцию пересечения множеств в тензорном произведении, матрицы смежности двух конечных автоматов приводятся к виду булевых матриц.\n",
        "\n",
        "Булевы матрицы на практике являются сильно разреженными. Сравниваемые алгоритмы используют различные библиотеки для работы с разреженными матрицами:\n",
        "- [pyCuBool](https://pypi.org/project/pycubool/)\n",
        "- [scipy.sparse](https://docs.scipy.org/doc/scipy/reference/sparse.html)\n",
        "\n",
        "В scipy.sparce используются `dok` матрицы, в pyCuBool – встроенный класс матрицы, операции с объектами которого оптимизированы под GPU."
      ]
    },
    {
      "cell_type": "code",
      "metadata": {
        "id": "QRr_OcEWlpsE"
      },
      "source": [
        "%%capture\n",
        "# Установка библиотек в рабочее окружение\n",
        "!pip install pycubool\n",
        "# Установка проекта https://github.com/vladislav-miroshnikov/formal-lang-course\n",
        "!git clone https://github.com/vladislav-miroshnikov/formal-lang-course"
      ],
      "execution_count": 1,
      "outputs": []
    },
    {
      "cell_type": "code",
      "metadata": {
        "id": "EHORM0qGl3HH"
      },
      "source": [
        "%%capture\n",
        "# Установка зависимостей проекта\n",
        "!pip install -r formal-lang-course/requirements.txt"
      ],
      "execution_count": null,
      "outputs": []
    },
    {
      "cell_type": "code",
      "metadata": {
        "id": "DmS5zqsrl5rJ"
      },
      "source": [
        "# Подключение директории проекта\n",
        "import sys\n",
        "sys.path.insert(1, 'formal-lang-course')"
      ],
      "execution_count": 3,
      "outputs": []
    },
    {
      "cell_type": "code",
      "metadata": {
        "id": "SVP0lU-tnvxJ"
      },
      "source": [
        "RDF_GRAPH = (\n",
        "    \"skos\",\n",
        "    \"generations\",\n",
        "    \"travel\",\n",
        "    \"univ_bench\",\n",
        "    \"atom_primitive\",\n",
        "    \"biomedical_mesure_primitive\",\n",
        "    \"foaf\",\n",
        "    \"people_pets\",\n",
        "    \"funding\",\n",
        "    \"wine\",\n",
        "    \"pizza\",\n",
        "    \"core\",\n",
        "    \"pathways\",\n",
        "    \"enzyme\",\n",
        "    \"eclass_514en\",\n",
        "    \"go_hierarchy\",\n",
        "    \"go\",\n",
        "    \"geospecies\",\n",
        ")\n",
        "# Графы для статического анализа\n",
        "STATIC_GRAPH = {\n",
        "    \"bzip\", \"gzip\", \"ls\", \"init\", \"drivers\", \"arch\"\n",
        "}\n",
        "# Сокращения названий для удобного вывода\n",
        "GRAPH_SHORT = {\n",
        "    \"skos\": \"skos\",\n",
        "    \"generations\": \"generations\",\n",
        "    \"travel\": \"travel\",\n",
        "    \"univ_bench\": \"univ\",\n",
        "    \"atom_primitive\": \"atom\",\n",
        "    \"biomedical_mesure_primitive\": \"biomed\",\n",
        "    \"foaf\": \"foaf\",\n",
        "    \"people_pets\": \"p_pets\",\n",
        "    \"funding\": \"funding\",\n",
        "    \"wine\": \"wine\",\n",
        "    \"pizza\": \"pizza\",\n",
        "    \"core\": \"core\",\n",
        "    \"pathways\": \"pathways\",\n",
        "    \"enzyme\": \"enzyme\",\n",
        "    \"eclass_514en\": \"eclass\",\n",
        "    \"go_hierarchy\": \"go_hier\",\n",
        "    \"go\": \"go\",\n",
        "    \"geospecies\": \"geospec\",\n",
        "    \"bzip\": \"bzip\",\n",
        "    \"gzip\": \"gzip\",\n",
        "    \"ls\": \"ls\",\n",
        "    \"init\": \"init\",\n",
        "    \"drivers\": \"drivers\",\n",
        "    \"arch\": \"arch\"\n",
        "}"
      ],
      "execution_count": null,
      "outputs": []
    },
    {
      "cell_type": "code",
      "metadata": {
        "id": "_wv2fNzxn5ve",
        "colab": {
          "base_uri": "https://localhost:8080/"
        },
        "outputId": "1fe21d9f-db59-41fb-cb82-a60dceed3976"
      },
      "source": [
        "# Информация о графах\n",
        "\n",
        "from project.utils.graph_utils import get_graph_info\n",
        "import pandas as pd \n",
        "\n",
        "edges = []\n",
        "nodes = []\n",
        "\n",
        "for graph_name in GRAPH_SHORT:\n",
        "  graph_info = get_graph_info(graph_name)\n",
        "  edges.append(graph_info.edges)\n",
        "  nodes.append(graph_info.nodes)\n",
        "\n",
        "\n",
        "df = pd.DataFrame(\n",
        "    {\n",
        "        \"Edges\": edges,\n",
        "        \"Nodes\": nodes,\n",
        "    },\n",
        "    index=GRAPH_SHORT\n",
        ")\n",
        "df"
      ],
      "execution_count": null,
      "outputs": [
        {
          "output_type": "stream",
          "name": "stderr",
          "text": [
            "file:///usr/local/lib/python3.7/dist-packages/cfpq_data/data/RDF/Graphs/<http:/sw.opencyc.org/concept/Mx4rvVi495wpEbGdrcN5Y29ycA> does not look like a valid URI, trying to serialize this will break.\n",
            "file:///usr/local/lib/python3.7/dist-packages/cfpq_data/data/RDF/Graphs/<http:/sw.opencyc.org/concept/Mx4rvVi495wpEbGdrcN5Y29ycA> does not look like a valid URI, trying to serialize this will break.\n"
          ]
        },
        {
          "output_type": "error",
          "ename": "GraphException",
          "evalue": "ignored",
          "traceback": [
            "\u001b[0;31m---------------------------------------------------------------------------\u001b[0m",
            "\u001b[0;31mGraphException\u001b[0m                            Traceback (most recent call last)",
            "\u001b[0;32m<ipython-input-40-8c9c42ec66fe>\u001b[0m in \u001b[0;36m<module>\u001b[0;34m()\u001b[0m\n\u001b[1;32m      8\u001b[0m \u001b[0;34m\u001b[0m\u001b[0m\n\u001b[1;32m      9\u001b[0m \u001b[0;32mfor\u001b[0m \u001b[0mgraph_name\u001b[0m \u001b[0;32min\u001b[0m \u001b[0mGRAPH_SHORT\u001b[0m\u001b[0;34m:\u001b[0m\u001b[0;34m\u001b[0m\u001b[0;34m\u001b[0m\u001b[0m\n\u001b[0;32m---> 10\u001b[0;31m   \u001b[0mgraph_info\u001b[0m \u001b[0;34m=\u001b[0m \u001b[0mget_graph_info\u001b[0m\u001b[0;34m(\u001b[0m\u001b[0mgraph_name\u001b[0m\u001b[0;34m)\u001b[0m\u001b[0;34m\u001b[0m\u001b[0;34m\u001b[0m\u001b[0m\n\u001b[0m\u001b[1;32m     11\u001b[0m   \u001b[0medges\u001b[0m\u001b[0;34m.\u001b[0m\u001b[0mappend\u001b[0m\u001b[0;34m(\u001b[0m\u001b[0mgraph_info\u001b[0m\u001b[0;34m.\u001b[0m\u001b[0medges\u001b[0m\u001b[0;34m)\u001b[0m\u001b[0;34m\u001b[0m\u001b[0;34m\u001b[0m\u001b[0m\n\u001b[1;32m     12\u001b[0m   \u001b[0mnodes\u001b[0m\u001b[0;34m.\u001b[0m\u001b[0mappend\u001b[0m\u001b[0;34m(\u001b[0m\u001b[0mgraph_info\u001b[0m\u001b[0;34m.\u001b[0m\u001b[0mnodes\u001b[0m\u001b[0;34m)\u001b[0m\u001b[0;34m\u001b[0m\u001b[0;34m\u001b[0m\u001b[0m\n",
            "\u001b[0;32m/content/formal-lang-course/project/utils/graph_utils.py\u001b[0m in \u001b[0;36mget_graph_info\u001b[0;34m(name, env)\u001b[0m\n\u001b[1;32m     65\u001b[0m     \"\"\"\n\u001b[1;32m     66\u001b[0m \u001b[0;34m\u001b[0m\u001b[0m\n\u001b[0;32m---> 67\u001b[0;31m     \u001b[0mgraph\u001b[0m \u001b[0;34m=\u001b[0m \u001b[0mget_graph\u001b[0m\u001b[0;34m(\u001b[0m\u001b[0mname\u001b[0m\u001b[0;34m,\u001b[0m \u001b[0menv\u001b[0m\u001b[0;34m)\u001b[0m\u001b[0;34m\u001b[0m\u001b[0;34m\u001b[0m\u001b[0m\n\u001b[0m\u001b[1;32m     68\u001b[0m \u001b[0;34m\u001b[0m\u001b[0m\n\u001b[1;32m     69\u001b[0m     return GraphInfo(\n",
            "\u001b[0;32m/content/formal-lang-course/project/utils/graph_utils.py\u001b[0m in \u001b[0;36mget_graph\u001b[0;34m(name, env)\u001b[0m\n\u001b[1;32m     43\u001b[0m \u001b[0;34m\u001b[0m\u001b[0m\n\u001b[1;32m     44\u001b[0m     \u001b[0;32mif\u001b[0m \u001b[0;32mnot\u001b[0m \u001b[0mgraph\u001b[0m\u001b[0;34m:\u001b[0m\u001b[0;34m\u001b[0m\u001b[0;34m\u001b[0m\u001b[0m\n\u001b[0;32m---> 45\u001b[0;31m         \u001b[0;32mraise\u001b[0m \u001b[0mGraphException\u001b[0m\u001b[0;34m(\u001b[0m\u001b[0;34mf\"Graph '{name}' is absent in dataset\"\u001b[0m\u001b[0;34m)\u001b[0m\u001b[0;34m\u001b[0m\u001b[0;34m\u001b[0m\u001b[0m\n\u001b[0m\u001b[1;32m     46\u001b[0m \u001b[0;34m\u001b[0m\u001b[0m\n\u001b[1;32m     47\u001b[0m     \u001b[0;32mreturn\u001b[0m \u001b[0mgraph\u001b[0m\u001b[0;34m\u001b[0m\u001b[0;34m\u001b[0m\u001b[0m\n",
            "\u001b[0;31mGraphException\u001b[0m: Graph 'bzip' is absent in dataset"
          ]
        }
      ]
    },
    {
      "cell_type": "markdown",
      "metadata": {
        "id": "Z7adA5c3wJDj"
      },
      "source": [
        "# Генерация данных"
      ]
    },
    {
      "cell_type": "markdown",
      "metadata": {
        "id": "GNjXPQqsonkq"
      },
      "source": [
        "## Регулярные запросы\n",
        "\n",
        "Так как регулярное множество лежит в классе КС, то алгоритмы $CFPQ$ должны работать и с регулярными ограничениями.\n",
        "\n",
        "Все запросы к графам отвечают следующим шаблонам, где $L_i$ — метки графа:\n",
        "- $(L_0 | L_1)^*\\,L_2$\n",
        "- $(L_0 | L_2)$+ ${L_1}^*$\n",
        "- $L_0\\,L_1\\,L_2\\,(L_3 | L_1)^*$\n",
        "- $(L_0 | L_3)^*\\,\\,|\\,\\,(L_1 | L_2)^*$\n",
        "\n",
        "### Крайний случай\n",
        "Если в графе число меток меньше числа запросов, тогда метки дополняются уже имеющимися. (В графе должна быть по крайней мере 1 метка, иначе эксперимент не имеет смысла)"
      ]
    },
    {
      "cell_type": "code",
      "metadata": {
        "id": "c7uHQ3ZUon6p"
      },
      "source": [
        "# Генерация регулярных выражений\n",
        "\n",
        "from pyformlang.regular_expression.regex_objects import Symbol\n",
        "from pyformlang.regular_expression import Regex\n",
        "\n",
        "NUMBER_OF_REGEX = 4\n",
        "\n",
        "def regex_from_label(label):\n",
        "  regex = Regex(\"\")\n",
        "  regex.head = Symbol(str(label))\n",
        "  return regex\n",
        "\n",
        "def expand(lst, expand_size):\n",
        "    \"\"\"\n",
        "    If number of labels < NUMBER_OF_REGEX, then expand them with existing ones\n",
        "    \"\"\"\n",
        "    expand_length = expand_size - len(lst)\n",
        "    if expand_length <= 0:\n",
        "        return lst\n",
        "    expanded_lst = lst.copy()\n",
        "    for i in range(expand_length):\n",
        "        expanded_lst.append(expanded_lst[i])\n",
        "    return expanded_lst\n",
        "\n",
        "def regex_first(labels):\n",
        "  \"\"\"\n",
        "  (l0 | l1)* l2\n",
        "  \"\"\"\n",
        "  labels = expand(labels, NUMBER_OF_REGEX)\n",
        "  regex_0 = regex_from_label(labels[0])\n",
        "  regex_1 = regex_from_label(labels[1])\n",
        "  regex_2 = regex_from_label(labels[2])\n",
        "  return regex_0.union(regex_1).kleene_star().concatenate(regex_2)\n",
        "  \n",
        "\n",
        "def regex_second(labels):\n",
        "  \"\"\"\n",
        "  (l0 | l2)+ l1*\n",
        "  \"\"\"\n",
        "  labels = expand(labels, NUMBER_OF_REGEX)\n",
        "  regex_0 = regex_from_label(labels[0])\n",
        "  regex_1 = regex_from_label(labels[1])\n",
        "  regex_2 = regex_from_label(labels[2])\n",
        "  return regex_0.union(regex_2).union(regex_1.kleene_star())\n",
        "\n",
        "def regex_third(labels):\n",
        "  \"\"\"\n",
        "  l0 l1 l2 (l3 | l1)*\n",
        "  \"\"\" \n",
        "  labels = expand(labels, NUMBER_OF_REGEX)\n",
        "  regex_0 = regex_from_label(labels[0])\n",
        "  regex_1 = regex_from_label(labels[1])\n",
        "  regex_2 = regex_from_label(labels[2])\n",
        "  regex_3 = regex_from_label(labels[3])\n",
        "  return regex_0.concatenate(regex_1).concatenate(regex_2).concatenate((regex_3.union(regex_1)).kleene_star())\n",
        "\n",
        "def regex_fourth(labels):\n",
        "  \"\"\"\n",
        "  (l0 | l3)* | (l1 | l2)*\n",
        "  \"\"\"\n",
        "  labels = expand(labels, NUMBER_OF_REGEX)\n",
        "  regex_0 = regex_from_label(labels[0])\n",
        "  regex_1 = regex_from_label(labels[1])\n",
        "  regex_2 = regex_from_label(labels[2])\n",
        "  regex_3 = regex_from_label(labels[3])\n",
        "  left_regex = (regex_0.union(regex_3)).kleene_star()\n",
        "  right_regex = (regex_1.union(regex_2)).kleene_star()\n",
        "  return left_regex.union(right_regex)\n",
        "\n",
        "REGEX_GENERATORS = (regex_first, regex_second, regex_third, regex_fourth)"
      ],
      "execution_count": null,
      "outputs": []
    },
    {
      "cell_type": "markdown",
      "metadata": {
        "id": "P2yeTl0RwPk1"
      },
      "source": [
        "## КС-запросы"
      ]
    },
    {
      "cell_type": "markdown",
      "metadata": {
        "id": "GAZfamqSxISA"
      },
      "source": [
        "### Три классических запроса для анализа иерархии"
      ]
    },
    {
      "cell_type": "code",
      "metadata": {
        "id": "P4U7UAjPwQmZ"
      },
      "source": [
        "def cfg_first():\n",
        "  return CFG.from_text(\"S -> subClassOf_r S subClassOf | type_r S type | subClassOf_r subClassOf | type_r type\")\n",
        "\n",
        "def cfg_second():\n",
        "  return CFG.from_text(\"S -> subClassOf_r S subClassOf | subClassOf\")\n",
        "\n",
        "def cfg_third():\n",
        "  return CFG.from_text(\"S -> broaderTransitive S broaderTransitive_r | broaderTransitive broaderTransitive_r\")\n",
        "\n",
        "CFG_GENERATORS = (cfg_first, cfg_second, cfg_third)"
      ],
      "execution_count": null,
      "outputs": []
    },
    {
      "cell_type": "markdown",
      "metadata": {
        "id": "biuwZy5Ty1Cf"
      },
      "source": [
        "### Запрос для статического анализа"
      ]
    },
    {
      "cell_type": "code",
      "metadata": {
        "id": "RLE2cYLJzk_-"
      },
      "source": [
        "from project.grammar.ecfg import ECFG\n",
        "\n",
        "def cfg_static():\n",
        "  return ECFG.from_text(\n",
        "      \"\"\"\n",
        "      M -> d_r V d\n",
        "      V -> ((M | $) a_r)* (M | $) (a (M | $))*\n",
        "      \"\"\"\n",
        "  )\n",
        "\n"
      ],
      "execution_count": null,
      "outputs": []
    },
    {
      "cell_type": "markdown",
      "metadata": {
        "id": "nN_GVwxmy2BA"
      },
      "source": [
        "# Алгоритмы $CFPQ$"
      ]
    },
    {
      "cell_type": "markdown",
      "metadata": {
        "id": "DEmETcyqy_1y"
      },
      "source": [
        "## Реализация через *scipy.sparse*"
      ]
    },
    {
      "cell_type": "code",
      "metadata": {
        "id": "fxMxJPo3y_Pt"
      },
      "source": [
        "# Алгоритмы реализованы в предыдущих домашних заданиях\n",
        "from project.cfpq.cfpq import cfpq_hellings as hellings_sparse \n",
        "from project.cfpq.cfpq import cfpq_matrix as matrix_sparse\n",
        "from project.cfpq.cfpq import cfpq_tensor as tensor_sparse"
      ],
      "execution_count": null,
      "outputs": []
    },
    {
      "cell_type": "markdown",
      "metadata": {
        "id": "J3DZyMTjz0qd"
      },
      "source": [
        "## Реализация через *pycubool*"
      ]
    },
    {
      "cell_type": "code",
      "metadata": {
        "id": "ewx86T7nzlWR"
      },
      "source": [
        "from project.grammars.ecfg import ECFG\n",
        "from project.utils.cfg_utils import transform_cfg_to_wcnf, transform_ecfg_to_rsm\n",
        "from project.utils.automata_utils import transform_graph_to_nfa\n",
        "\n",
        "import pycubool as cb"
      ],
      "execution_count": null,
      "outputs": []
    },
    {
      "cell_type": "code",
      "metadata": {
        "id": "kNlTH2S34upZ"
      },
      "source": [
        "def _matrix_based_cb(cfg, graph):\n",
        "    wcnf = transform_cfg_to_wcnf(cfg)\n",
        "\n",
        "    eps_prod_heads = [p.head.value for p in wcnf.productions if not p.body]\n",
        "    term_productions = {p for p in wcnf.productions if len(p.body) == 1}\n",
        "    var_productions = {p for p in wcnf.productions if len(p.body) == 2}\n",
        "    nodes_num = graph.number_of_nodes()\n",
        "    matrices = {\n",
        "        v.value: cb.Matrix.empty(shape=(nodes_num, nodes_num)) for v in wcnf.variables\n",
        "    }\n",
        "\n",
        "    for i, j, data in graph.edges(data=True):\n",
        "        l = data[\"label\"]\n",
        "        for v in {p.head.value for p in term_productions if p.body[0].value == l}:\n",
        "            matrices[v][i, j] = True\n",
        "\n",
        "    for i in range(nodes_num):\n",
        "        for v in eps_prod_heads:\n",
        "            matrices[v][i, i] = True\n",
        "\n",
        "    any_changing = True\n",
        "    while any_changing:\n",
        "        any_changing = False\n",
        "        for p in var_productions:\n",
        "            old_nnz = set(matrices[p.head.value].to_list())\n",
        "            matrices[p.head.value] = matrices[p.head.value].ewiseadd(\n",
        "                matrices[p.body[0].value].mxm(matrices[p.body[1].value])\n",
        "            )\n",
        "            new_nnz = set(matrices[p.head.value].to_list())\n",
        "            any_changing = any_changing or old_nnz != new_nnz\n",
        "\n",
        "    return {\n",
        "        (u, variable, v)\n",
        "        for variable, matrix in matrices.items()\n",
        "        for u, v in matrix.to_list()\n",
        "    }"
      ],
      "execution_count": null,
      "outputs": []
    },
    {
      "cell_type": "code",
      "metadata": {
        "id": "q43h_L1j-R0T"
      },
      "source": [
        "from project.utils.rsm_pycubool import RSMMatrixCB"
      ],
      "execution_count": null,
      "outputs": []
    },
    {
      "cell_type": "code",
      "metadata": {
        "id": "DFri-gno-CMh"
      },
      "source": [
        "def _tensor_based_cb(cfg, graph):\n",
        "    graph_bm = RSMMatrixCB.from_nfa(transform_graph_to_nfa(graph))\n",
        "    rsm = transform_ecfg_to_rsm((ECFG.from_pyformlang_cfg(cfg)))\n",
        "    rsm_vars = {box.variable.value for box in rsm.boxes}\n",
        "    rsm_bm = RSMMatrixCB.from_rsm(rsm)\n",
        "\n",
        "    for eps_state in rsm_bm.start_states & rsm_bm.final_states:\n",
        "        variable = rsm_bm.get_nonterminals(eps_state, eps_state)\n",
        "        if variable not in graph_bm.bmatrix:\n",
        "            graph_bm.bmatrix[variable] = cb.Matrix.empty(\n",
        "                shape=(graph_bm.number_of_states, graph_bm.number_of_states)\n",
        "            )\n",
        "        for i in range(graph_bm.number_of_states):\n",
        "            graph_bm.bmatrix[variable][i, i] = True\n",
        "\n",
        "    tc = graph_bm.intersect(rsm_bm).get_transitive_closure()\n",
        "\n",
        "    prev_nnz = tc.to_list()\n",
        "    new_nnz = 0\n",
        "\n",
        "    while prev_nnz != new_nnz:\n",
        "        for i, j in tc.to_list():\n",
        "            rsm_from = i % rsm_bm.number_of_states\n",
        "            rsm_to = j % rsm_bm.number_of_states\n",
        "            variable = rsm_bm.get_nonterminals(rsm_from, rsm_to)\n",
        "            if not variable:\n",
        "                continue\n",
        "            graph_from = i // rsm_bm.number_of_states\n",
        "            graph_to = j // rsm_bm.number_of_states\n",
        "            if variable not in graph_bm.bmatrix:\n",
        "                graph_bm.bmatrix[variable] = cb.Matrix.empty(\n",
        "                    (graph_bm.number_of_states, graph_bm.number_of_states)\n",
        "                )\n",
        "            graph_bm.bmatrix[variable][graph_from, graph_to] = True\n",
        "\n",
        "        tc = graph_bm.intersect(rsm_bm).get_transitive_closure()\n",
        "\n",
        "        prev_nnz, new_nnz = new_nnz, tc.to_list()\n",
        "\n",
        "    return {\n",
        "        (u, label, v)\n",
        "        for label, bm in graph_bm.bmatrix.items()\n",
        "        if label in rsm_vars\n",
        "        for u, v in bm.to_list()\n",
        "    }"
      ],
      "execution_count": null,
      "outputs": []
    },
    {
      "cell_type": "code",
      "metadata": {
        "id": "PH5EfFPJ-5Qw"
      },
      "source": [
        "from pyformlang.cfg import Variable\n",
        "\n",
        "from project.cfpq.cfpq import _cfpq"
      ],
      "execution_count": null,
      "outputs": []
    },
    {
      "cell_type": "code",
      "metadata": {
        "id": "egH9OasD_I9W"
      },
      "source": [
        "def matrix_cb(graph, cfg, start_nodes=None, final_nodes=None, start_var=Variable(\"S\")):\n",
        "  return _cfpq(graph, cfg, start_nodes, final_nodes, start_var, algorithm=_matrix_based_cb)"
      ],
      "execution_count": null,
      "outputs": []
    },
    {
      "cell_type": "code",
      "metadata": {
        "id": "tATQ-bzB_nKH"
      },
      "source": [
        "def tensor_cb(graph, cfg, start_nodes=None, final_nodes=None, start_var=Variable(\"S\")):\n",
        "  return _cfpq(graph, cfg, start_nodes, final_nodes, start_var, algorithm=_tensor_based_cb)"
      ],
      "execution_count": null,
      "outputs": []
    },
    {
      "cell_type": "markdown",
      "metadata": {
        "id": "EJFqQp1ItPgg"
      },
      "source": [
        "### Небольшой тест, чтобы убедиться в корректности реализации алгоритмов на pycubool"
      ]
    },
    {
      "cell_type": "code",
      "metadata": {
        "id": "p-GJmIvK_zjy"
      },
      "source": [
        "from project.utils.graph_utils import generate_two_cycles_graph\n",
        "from pyformlang.cfg import CFG\n",
        "\n",
        "graph = generate_two_cycles_graph(\"2\", \"1\", \"a\", \"b\")\n",
        "cfg = CFG.from_text(\n",
        "\"\"\"\n",
        "S -> A B\n",
        "S -> A S1\n",
        "S1 -> S B\n",
        "A -> a\n",
        "B -> b\n",
        "\"\"\")\n",
        "\n",
        "assert tensor_sparse(graph, cfg, None, None, \"S\") == tensor_cb(graph, cfg, None, None, \"S\")\n",
        "assert matrix_sparse(graph, cfg, None, None, \"S\") == matrix_cb(graph, cfg, None, None, \"S\")"
      ],
      "execution_count": null,
      "outputs": []
    },
    {
      "cell_type": "code",
      "metadata": {
        "id": "NwEHAFLyud6S"
      },
      "source": [
        ""
      ],
      "execution_count": null,
      "outputs": []
    }
  ]
}